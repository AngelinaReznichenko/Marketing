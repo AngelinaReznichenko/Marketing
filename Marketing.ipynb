{
 "cells": [
  {
   "cell_type": "markdown",
   "id": "f147c2f7-a8bb-401a-bd52-413664b94f0c",
   "metadata": {},
   "source": [
    "# Описание\n",
    "\r\n",
    "Интернет-магазин собирает историю покупателей, проводит рассылки предложений и\r\n",
    "планирует будущие продажи. Для оптимизации процессов надо выделить пользователей,\r\n",
    "которые готовы совершить покупку в ближайшее вреить тестирование"
   ]
  },
  {
   "cell_type": "markdown",
   "id": "17907a69-01f0-4f5c-b344-26ccfb4decfe",
   "metadata": {},
   "source": [
    "# Цель\n",
    "\n",
    "Предсказать вероятность покупки в течение 90 дней"
   ]
  },
  {
   "cell_type": "markdown",
   "id": "bc01bbf2-1936-43f9-a770-2142dd0240a2",
   "metadata": {},
   "source": [
    "# Задачи\n",
    "\n",
    "- Изучить данные\n",
    "\n",
    "- Разработать полезные признаки\n",
    "\n",
    "- Создать модель для классификации пользователей\n",
    "\n",
    "- Улучшить модель и максимизировать метрику roc_auc\n",
    "\n",
    "- Выполнить тестирование"
   ]
  },
  {
   "cell_type": "code",
   "execution_count": 1,
   "id": "99feb0ae-14d0-43ff-a5d9-a0082d9e9f06",
   "metadata": {},
   "outputs": [],
   "source": [
    "!pip install phik -q"
   ]
  },
  {
   "cell_type": "code",
   "execution_count": 2,
   "id": "19cee151-39fa-459f-873e-8c05c64a68c7",
   "metadata": {},
   "outputs": [],
   "source": [
    "!pip install shap -q"
   ]
  },
  {
   "cell_type": "code",
   "execution_count": 3,
   "id": "5ae46d4e-8288-4b3b-b43e-bb80a29fbcb8",
   "metadata": {},
   "outputs": [],
   "source": [
    "!pip install catboost -q"
   ]
  },
  {
   "cell_type": "code",
   "execution_count": 101,
   "id": "59e47d77-51e6-4f5d-a7ca-8158f752d7bb",
   "metadata": {},
   "outputs": [],
   "source": [
    "!pip install optuna -q"
   ]
  },
  {
   "cell_type": "code",
   "execution_count": 108,
   "id": "00fc6ecd-33a5-4f5e-bf90-67baa0b49504",
   "metadata": {},
   "outputs": [],
   "source": [
    "!pip install optuna-integration -q"
   ]
  },
  {
   "cell_type": "code",
   "execution_count": 109,
   "id": "378eb19d-d3bc-48ff-a19e-18e7b5869751",
   "metadata": {},
   "outputs": [],
   "source": [
    "from sklearn import tree\n",
    "from sklearn.tree import plot_tree\n",
    "import warnings \n",
    "import pandas as pd\n",
    "import re\n",
    "import optuna\n",
    "from matplotlib import pyplot as plt\n",
    "import numpy as np\n",
    "from scipy import stats as st\n",
    "import seaborn as sns\n",
    "import phik\n",
    "import shap\n",
    "import os\n",
    "from datetime import datetime, timedelta\n",
    "from collections import Counter\n",
    "\n",
    "from catboost import CatBoostClassifier, CatBoostRegressor\n",
    "from sklearn.linear_model import LogisticRegression\n",
    "from sklearn.linear_model import LinearRegression\n",
    "from sklearn.neighbors import KNeighborsClassifier\n",
    "from sklearn.tree import DecisionTreeClassifier\n",
    "from sklearn.tree import DecisionTreeRegressor\n",
    "from sklearn.svm import SVC\n",
    "from sklearn.impute import SimpleImputer\n",
    "from sklearn.metrics import make_scorer\n",
    "from sklearn.model_selection import GridSearchCV\n",
    "from sklearn.preprocessing import LabelEncoder\n",
    "from sklearn.ensemble import RandomForestClassifier\n",
    "from optuna import distributions\n",
    "from optuna.integration import OptunaSearchCV\n",
    "\n",
    "from sklearn.model_selection import train_test_split, cross_val_score, RandomizedSearchCV\n",
    "from sklearn.feature_selection import SelectKBest, f_classif\n",
    "from sklearn.dummy import DummyClassifier\n",
    "from sklearn.inspection import permutation_importance\n",
    "from sklearn.pipeline import Pipeline\n",
    "from sklearn.impute import KNNImputer\n",
    "\n",
    "from sklearn.compose import ColumnTransformer\n",
    "\n",
    "from sklearn.preprocessing import (\n",
    "    OneHotEncoder, \n",
    "    OrdinalEncoder, \n",
    "    StandardScaler, \n",
    "    MinMaxScaler, \n",
    "    RobustScaler\n",
    ")\n",
    "\n",
    "from sklearn.metrics import (\n",
    "    f1_score, \n",
    "    roc_auc_score, \n",
    "    accuracy_score, \n",
    "    precision_score, \n",
    "    recall_score, \n",
    "    confusion_matrix, \n",
    "    ConfusionMatrixDisplay, \n",
    "    classification_report)\n",
    "\n",
    "RANDOM_STATE = 42"
   ]
  },
  {
   "cell_type": "markdown",
   "id": "bc208619-a2b0-4dae-84ff-4da9de0c527e",
   "metadata": {},
   "source": [
    "## 1. Загрузка данных"
   ]
  },
  {
   "cell_type": "code",
   "execution_count": 5,
   "id": "acd2016a-907e-4445-a753-944173a34eba",
   "metadata": {},
   "outputs": [],
   "source": [
    "apparel_messages = pd.read_csv(os.path.join('Desktop', 'мастерская2', 'apparel-messages.csv'))\n",
    "apparel_purchases = pd.read_csv(os.path.join('Desktop', 'мастерская2', 'apparel-purchases.csv'))\n",
    "target = pd.read_csv(os.path.join('Desktop', 'мастерская2', 'apparel-target_binary.csv'))\n",
    "full_campaign_daily_event = pd.read_csv(os.path.join('Desktop', 'мастерская2', 'full_campaign_daily_event.csv'))\n",
    "full_campaign_daily_event_channel = pd.read_csv(os.path.join('Desktop', 'мастерская2', 'full_campaign_daily_event_channel.csv'))\n",
    "\n",
    "pd.set_option('display.float_format', '{:,.2f}'.format)"
   ]
  },
  {
   "cell_type": "code",
   "execution_count": 6,
   "id": "f404417f-fdf2-4e71-9a77-059021955f40",
   "metadata": {},
   "outputs": [
    {
     "data": {
      "text/html": [
       "<div>\n",
       "<style scoped>\n",
       "    .dataframe tbody tr th:only-of-type {\n",
       "        vertical-align: middle;\n",
       "    }\n",
       "\n",
       "    .dataframe tbody tr th {\n",
       "        vertical-align: top;\n",
       "    }\n",
       "\n",
       "    .dataframe thead th {\n",
       "        text-align: right;\n",
       "    }\n",
       "</style>\n",
       "<table border=\"1\" class=\"dataframe\">\n",
       "  <thead>\n",
       "    <tr style=\"text-align: right;\">\n",
       "      <th></th>\n",
       "      <th>bulk_campaign_id</th>\n",
       "      <th>client_id</th>\n",
       "      <th>message_id</th>\n",
       "      <th>event</th>\n",
       "      <th>channel</th>\n",
       "      <th>date</th>\n",
       "      <th>created_at</th>\n",
       "    </tr>\n",
       "  </thead>\n",
       "  <tbody>\n",
       "    <tr>\n",
       "      <th>0</th>\n",
       "      <td>4439</td>\n",
       "      <td>1515915625626736623</td>\n",
       "      <td>1515915625626736623-4439-6283415ac07ea</td>\n",
       "      <td>open</td>\n",
       "      <td>email</td>\n",
       "      <td>2022-05-19</td>\n",
       "      <td>2022-05-19 00:14:20</td>\n",
       "    </tr>\n",
       "    <tr>\n",
       "      <th>1</th>\n",
       "      <td>4439</td>\n",
       "      <td>1515915625490086521</td>\n",
       "      <td>1515915625490086521-4439-62834150016dd</td>\n",
       "      <td>open</td>\n",
       "      <td>email</td>\n",
       "      <td>2022-05-19</td>\n",
       "      <td>2022-05-19 00:39:34</td>\n",
       "    </tr>\n",
       "    <tr>\n",
       "      <th>2</th>\n",
       "      <td>4439</td>\n",
       "      <td>1515915625553578558</td>\n",
       "      <td>1515915625553578558-4439-6283415b36b4f</td>\n",
       "      <td>open</td>\n",
       "      <td>email</td>\n",
       "      <td>2022-05-19</td>\n",
       "      <td>2022-05-19 00:51:49</td>\n",
       "    </tr>\n",
       "    <tr>\n",
       "      <th>3</th>\n",
       "      <td>4439</td>\n",
       "      <td>1515915625553578558</td>\n",
       "      <td>1515915625553578558-4439-6283415b36b4f</td>\n",
       "      <td>click</td>\n",
       "      <td>email</td>\n",
       "      <td>2022-05-19</td>\n",
       "      <td>2022-05-19 00:52:20</td>\n",
       "    </tr>\n",
       "    <tr>\n",
       "      <th>4</th>\n",
       "      <td>4439</td>\n",
       "      <td>1515915625471518311</td>\n",
       "      <td>1515915625471518311-4439-628341570c133</td>\n",
       "      <td>open</td>\n",
       "      <td>email</td>\n",
       "      <td>2022-05-19</td>\n",
       "      <td>2022-05-19 00:56:52</td>\n",
       "    </tr>\n",
       "  </tbody>\n",
       "</table>\n",
       "</div>"
      ],
      "text/plain": [
       "   bulk_campaign_id            client_id  \\\n",
       "0              4439  1515915625626736623   \n",
       "1              4439  1515915625490086521   \n",
       "2              4439  1515915625553578558   \n",
       "3              4439  1515915625553578558   \n",
       "4              4439  1515915625471518311   \n",
       "\n",
       "                               message_id  event channel        date  \\\n",
       "0  1515915625626736623-4439-6283415ac07ea   open   email  2022-05-19   \n",
       "1  1515915625490086521-4439-62834150016dd   open   email  2022-05-19   \n",
       "2  1515915625553578558-4439-6283415b36b4f   open   email  2022-05-19   \n",
       "3  1515915625553578558-4439-6283415b36b4f  click   email  2022-05-19   \n",
       "4  1515915625471518311-4439-628341570c133   open   email  2022-05-19   \n",
       "\n",
       "            created_at  \n",
       "0  2022-05-19 00:14:20  \n",
       "1  2022-05-19 00:39:34  \n",
       "2  2022-05-19 00:51:49  \n",
       "3  2022-05-19 00:52:20  \n",
       "4  2022-05-19 00:56:52  "
      ]
     },
     "execution_count": 6,
     "metadata": {},
     "output_type": "execute_result"
    }
   ],
   "source": [
    "apparel_messages.head()"
   ]
  },
  {
   "cell_type": "code",
   "execution_count": 7,
   "id": "ef0d1a57-0e11-4f70-95ef-346cdf5eb528",
   "metadata": {},
   "outputs": [
    {
     "data": {
      "text/html": [
       "<div>\n",
       "<style scoped>\n",
       "    .dataframe tbody tr th:only-of-type {\n",
       "        vertical-align: middle;\n",
       "    }\n",
       "\n",
       "    .dataframe tbody tr th {\n",
       "        vertical-align: top;\n",
       "    }\n",
       "\n",
       "    .dataframe thead th {\n",
       "        text-align: right;\n",
       "    }\n",
       "</style>\n",
       "<table border=\"1\" class=\"dataframe\">\n",
       "  <thead>\n",
       "    <tr style=\"text-align: right;\">\n",
       "      <th></th>\n",
       "      <th>client_id</th>\n",
       "      <th>quantity</th>\n",
       "      <th>price</th>\n",
       "      <th>category_ids</th>\n",
       "      <th>date</th>\n",
       "      <th>message_id</th>\n",
       "    </tr>\n",
       "  </thead>\n",
       "  <tbody>\n",
       "    <tr>\n",
       "      <th>0</th>\n",
       "      <td>1515915625468169594</td>\n",
       "      <td>1</td>\n",
       "      <td>1,999.00</td>\n",
       "      <td>['4', '28', '57', '431']</td>\n",
       "      <td>2022-05-16</td>\n",
       "      <td>1515915625468169594-4301-627b661e9736d</td>\n",
       "    </tr>\n",
       "    <tr>\n",
       "      <th>1</th>\n",
       "      <td>1515915625468169594</td>\n",
       "      <td>1</td>\n",
       "      <td>2,499.00</td>\n",
       "      <td>['4', '28', '57', '431']</td>\n",
       "      <td>2022-05-16</td>\n",
       "      <td>1515915625468169594-4301-627b661e9736d</td>\n",
       "    </tr>\n",
       "    <tr>\n",
       "      <th>2</th>\n",
       "      <td>1515915625471138230</td>\n",
       "      <td>1</td>\n",
       "      <td>6,499.00</td>\n",
       "      <td>['4', '28', '57', '431']</td>\n",
       "      <td>2022-05-16</td>\n",
       "      <td>1515915625471138230-4437-6282242f27843</td>\n",
       "    </tr>\n",
       "    <tr>\n",
       "      <th>3</th>\n",
       "      <td>1515915625471138230</td>\n",
       "      <td>1</td>\n",
       "      <td>4,999.00</td>\n",
       "      <td>['4', '28', '244', '432']</td>\n",
       "      <td>2022-05-16</td>\n",
       "      <td>1515915625471138230-4437-6282242f27843</td>\n",
       "    </tr>\n",
       "    <tr>\n",
       "      <th>4</th>\n",
       "      <td>1515915625471138230</td>\n",
       "      <td>1</td>\n",
       "      <td>4,999.00</td>\n",
       "      <td>['4', '28', '49', '413']</td>\n",
       "      <td>2022-05-16</td>\n",
       "      <td>1515915625471138230-4437-6282242f27843</td>\n",
       "    </tr>\n",
       "  </tbody>\n",
       "</table>\n",
       "</div>"
      ],
      "text/plain": [
       "             client_id  quantity    price               category_ids  \\\n",
       "0  1515915625468169594         1 1,999.00   ['4', '28', '57', '431']   \n",
       "1  1515915625468169594         1 2,499.00   ['4', '28', '57', '431']   \n",
       "2  1515915625471138230         1 6,499.00   ['4', '28', '57', '431']   \n",
       "3  1515915625471138230         1 4,999.00  ['4', '28', '244', '432']   \n",
       "4  1515915625471138230         1 4,999.00   ['4', '28', '49', '413']   \n",
       "\n",
       "         date                              message_id  \n",
       "0  2022-05-16  1515915625468169594-4301-627b661e9736d  \n",
       "1  2022-05-16  1515915625468169594-4301-627b661e9736d  \n",
       "2  2022-05-16  1515915625471138230-4437-6282242f27843  \n",
       "3  2022-05-16  1515915625471138230-4437-6282242f27843  \n",
       "4  2022-05-16  1515915625471138230-4437-6282242f27843  "
      ]
     },
     "execution_count": 7,
     "metadata": {},
     "output_type": "execute_result"
    }
   ],
   "source": [
    "apparel_purchases.head()"
   ]
  },
  {
   "cell_type": "code",
   "execution_count": 8,
   "id": "1d2590c4-d3ef-401b-9481-d68dfd3dfb77",
   "metadata": {},
   "outputs": [
    {
     "data": {
      "text/html": [
       "<div>\n",
       "<style scoped>\n",
       "    .dataframe tbody tr th:only-of-type {\n",
       "        vertical-align: middle;\n",
       "    }\n",
       "\n",
       "    .dataframe tbody tr th {\n",
       "        vertical-align: top;\n",
       "    }\n",
       "\n",
       "    .dataframe thead th {\n",
       "        text-align: right;\n",
       "    }\n",
       "</style>\n",
       "<table border=\"1\" class=\"dataframe\">\n",
       "  <thead>\n",
       "    <tr style=\"text-align: right;\">\n",
       "      <th></th>\n",
       "      <th>client_id</th>\n",
       "      <th>target</th>\n",
       "    </tr>\n",
       "  </thead>\n",
       "  <tbody>\n",
       "    <tr>\n",
       "      <th>0</th>\n",
       "      <td>1515915625468060902</td>\n",
       "      <td>0</td>\n",
       "    </tr>\n",
       "    <tr>\n",
       "      <th>1</th>\n",
       "      <td>1515915625468061003</td>\n",
       "      <td>1</td>\n",
       "    </tr>\n",
       "    <tr>\n",
       "      <th>2</th>\n",
       "      <td>1515915625468061099</td>\n",
       "      <td>0</td>\n",
       "    </tr>\n",
       "    <tr>\n",
       "      <th>3</th>\n",
       "      <td>1515915625468061100</td>\n",
       "      <td>0</td>\n",
       "    </tr>\n",
       "    <tr>\n",
       "      <th>4</th>\n",
       "      <td>1515915625468061170</td>\n",
       "      <td>0</td>\n",
       "    </tr>\n",
       "  </tbody>\n",
       "</table>\n",
       "</div>"
      ],
      "text/plain": [
       "             client_id  target\n",
       "0  1515915625468060902       0\n",
       "1  1515915625468061003       1\n",
       "2  1515915625468061099       0\n",
       "3  1515915625468061100       0\n",
       "4  1515915625468061170       0"
      ]
     },
     "execution_count": 8,
     "metadata": {},
     "output_type": "execute_result"
    }
   ],
   "source": [
    "target.head()"
   ]
  },
  {
   "cell_type": "code",
   "execution_count": 9,
   "id": "0bd579c0-a994-4855-b271-df110b998dc4",
   "metadata": {},
   "outputs": [
    {
     "data": {
      "text/html": [
       "<div>\n",
       "<style scoped>\n",
       "    .dataframe tbody tr th:only-of-type {\n",
       "        vertical-align: middle;\n",
       "    }\n",
       "\n",
       "    .dataframe tbody tr th {\n",
       "        vertical-align: top;\n",
       "    }\n",
       "\n",
       "    .dataframe thead th {\n",
       "        text-align: right;\n",
       "    }\n",
       "</style>\n",
       "<table border=\"1\" class=\"dataframe\">\n",
       "  <thead>\n",
       "    <tr style=\"text-align: right;\">\n",
       "      <th></th>\n",
       "      <th>date</th>\n",
       "      <th>bulk_campaign_id</th>\n",
       "      <th>count_click</th>\n",
       "      <th>count_complain</th>\n",
       "      <th>count_hard_bounce</th>\n",
       "      <th>count_open</th>\n",
       "      <th>count_purchase</th>\n",
       "      <th>count_send</th>\n",
       "      <th>count_soft_bounce</th>\n",
       "      <th>count_subscribe</th>\n",
       "      <th>...</th>\n",
       "      <th>nunique_open</th>\n",
       "      <th>nunique_purchase</th>\n",
       "      <th>nunique_send</th>\n",
       "      <th>nunique_soft_bounce</th>\n",
       "      <th>nunique_subscribe</th>\n",
       "      <th>nunique_unsubscribe</th>\n",
       "      <th>count_hbq_spam</th>\n",
       "      <th>nunique_hbq_spam</th>\n",
       "      <th>count_close</th>\n",
       "      <th>nunique_close</th>\n",
       "    </tr>\n",
       "  </thead>\n",
       "  <tbody>\n",
       "    <tr>\n",
       "      <th>0</th>\n",
       "      <td>2022-05-19</td>\n",
       "      <td>563</td>\n",
       "      <td>0</td>\n",
       "      <td>0</td>\n",
       "      <td>0</td>\n",
       "      <td>4</td>\n",
       "      <td>0</td>\n",
       "      <td>0</td>\n",
       "      <td>0</td>\n",
       "      <td>0</td>\n",
       "      <td>...</td>\n",
       "      <td>4</td>\n",
       "      <td>0</td>\n",
       "      <td>0</td>\n",
       "      <td>0</td>\n",
       "      <td>0</td>\n",
       "      <td>0</td>\n",
       "      <td>0</td>\n",
       "      <td>0</td>\n",
       "      <td>0</td>\n",
       "      <td>0</td>\n",
       "    </tr>\n",
       "    <tr>\n",
       "      <th>1</th>\n",
       "      <td>2022-05-19</td>\n",
       "      <td>577</td>\n",
       "      <td>0</td>\n",
       "      <td>0</td>\n",
       "      <td>0</td>\n",
       "      <td>1</td>\n",
       "      <td>0</td>\n",
       "      <td>0</td>\n",
       "      <td>0</td>\n",
       "      <td>0</td>\n",
       "      <td>...</td>\n",
       "      <td>1</td>\n",
       "      <td>0</td>\n",
       "      <td>0</td>\n",
       "      <td>0</td>\n",
       "      <td>0</td>\n",
       "      <td>0</td>\n",
       "      <td>0</td>\n",
       "      <td>0</td>\n",
       "      <td>0</td>\n",
       "      <td>0</td>\n",
       "    </tr>\n",
       "    <tr>\n",
       "      <th>2</th>\n",
       "      <td>2022-05-19</td>\n",
       "      <td>622</td>\n",
       "      <td>0</td>\n",
       "      <td>0</td>\n",
       "      <td>0</td>\n",
       "      <td>2</td>\n",
       "      <td>0</td>\n",
       "      <td>0</td>\n",
       "      <td>0</td>\n",
       "      <td>0</td>\n",
       "      <td>...</td>\n",
       "      <td>2</td>\n",
       "      <td>0</td>\n",
       "      <td>0</td>\n",
       "      <td>0</td>\n",
       "      <td>0</td>\n",
       "      <td>0</td>\n",
       "      <td>0</td>\n",
       "      <td>0</td>\n",
       "      <td>0</td>\n",
       "      <td>0</td>\n",
       "    </tr>\n",
       "    <tr>\n",
       "      <th>3</th>\n",
       "      <td>2022-05-19</td>\n",
       "      <td>634</td>\n",
       "      <td>0</td>\n",
       "      <td>0</td>\n",
       "      <td>0</td>\n",
       "      <td>1</td>\n",
       "      <td>0</td>\n",
       "      <td>0</td>\n",
       "      <td>0</td>\n",
       "      <td>0</td>\n",
       "      <td>...</td>\n",
       "      <td>1</td>\n",
       "      <td>0</td>\n",
       "      <td>0</td>\n",
       "      <td>0</td>\n",
       "      <td>0</td>\n",
       "      <td>0</td>\n",
       "      <td>0</td>\n",
       "      <td>0</td>\n",
       "      <td>0</td>\n",
       "      <td>0</td>\n",
       "    </tr>\n",
       "    <tr>\n",
       "      <th>4</th>\n",
       "      <td>2022-05-19</td>\n",
       "      <td>676</td>\n",
       "      <td>0</td>\n",
       "      <td>0</td>\n",
       "      <td>0</td>\n",
       "      <td>1</td>\n",
       "      <td>0</td>\n",
       "      <td>0</td>\n",
       "      <td>0</td>\n",
       "      <td>0</td>\n",
       "      <td>...</td>\n",
       "      <td>1</td>\n",
       "      <td>0</td>\n",
       "      <td>0</td>\n",
       "      <td>0</td>\n",
       "      <td>0</td>\n",
       "      <td>0</td>\n",
       "      <td>0</td>\n",
       "      <td>0</td>\n",
       "      <td>0</td>\n",
       "      <td>0</td>\n",
       "    </tr>\n",
       "  </tbody>\n",
       "</table>\n",
       "<p>5 rows × 24 columns</p>\n",
       "</div>"
      ],
      "text/plain": [
       "         date  bulk_campaign_id  count_click  count_complain  \\\n",
       "0  2022-05-19               563            0               0   \n",
       "1  2022-05-19               577            0               0   \n",
       "2  2022-05-19               622            0               0   \n",
       "3  2022-05-19               634            0               0   \n",
       "4  2022-05-19               676            0               0   \n",
       "\n",
       "   count_hard_bounce  count_open  count_purchase  count_send  \\\n",
       "0                  0           4               0           0   \n",
       "1                  0           1               0           0   \n",
       "2                  0           2               0           0   \n",
       "3                  0           1               0           0   \n",
       "4                  0           1               0           0   \n",
       "\n",
       "   count_soft_bounce  count_subscribe  ...  nunique_open  nunique_purchase  \\\n",
       "0                  0                0  ...             4                 0   \n",
       "1                  0                0  ...             1                 0   \n",
       "2                  0                0  ...             2                 0   \n",
       "3                  0                0  ...             1                 0   \n",
       "4                  0                0  ...             1                 0   \n",
       "\n",
       "   nunique_send  nunique_soft_bounce  nunique_subscribe  nunique_unsubscribe  \\\n",
       "0             0                    0                  0                    0   \n",
       "1             0                    0                  0                    0   \n",
       "2             0                    0                  0                    0   \n",
       "3             0                    0                  0                    0   \n",
       "4             0                    0                  0                    0   \n",
       "\n",
       "   count_hbq_spam  nunique_hbq_spam  count_close  nunique_close  \n",
       "0               0                 0            0              0  \n",
       "1               0                 0            0              0  \n",
       "2               0                 0            0              0  \n",
       "3               0                 0            0              0  \n",
       "4               0                 0            0              0  \n",
       "\n",
       "[5 rows x 24 columns]"
      ]
     },
     "execution_count": 9,
     "metadata": {},
     "output_type": "execute_result"
    }
   ],
   "source": [
    "full_campaign_daily_event.head()"
   ]
  },
  {
   "cell_type": "code",
   "execution_count": 10,
   "id": "bdca37bc-085d-44c2-8953-e9a12cda90b4",
   "metadata": {},
   "outputs": [
    {
     "data": {
      "text/html": [
       "<div>\n",
       "<style scoped>\n",
       "    .dataframe tbody tr th:only-of-type {\n",
       "        vertical-align: middle;\n",
       "    }\n",
       "\n",
       "    .dataframe tbody tr th {\n",
       "        vertical-align: top;\n",
       "    }\n",
       "\n",
       "    .dataframe thead th {\n",
       "        text-align: right;\n",
       "    }\n",
       "</style>\n",
       "<table border=\"1\" class=\"dataframe\">\n",
       "  <thead>\n",
       "    <tr style=\"text-align: right;\">\n",
       "      <th></th>\n",
       "      <th>date</th>\n",
       "      <th>bulk_campaign_id</th>\n",
       "      <th>count_click_email</th>\n",
       "      <th>count_click_mobile_push</th>\n",
       "      <th>count_open_email</th>\n",
       "      <th>count_open_mobile_push</th>\n",
       "      <th>count_purchase_email</th>\n",
       "      <th>count_purchase_mobile_push</th>\n",
       "      <th>count_soft_bounce_email</th>\n",
       "      <th>count_subscribe_email</th>\n",
       "      <th>...</th>\n",
       "      <th>count_send_email</th>\n",
       "      <th>nunique_hard_bounce_email</th>\n",
       "      <th>nunique_hbq_spam_email</th>\n",
       "      <th>nunique_send_email</th>\n",
       "      <th>count_soft_bounce_mobile_push</th>\n",
       "      <th>nunique_soft_bounce_mobile_push</th>\n",
       "      <th>count_complain_email</th>\n",
       "      <th>nunique_complain_email</th>\n",
       "      <th>count_close_mobile_push</th>\n",
       "      <th>nunique_close_mobile_push</th>\n",
       "    </tr>\n",
       "  </thead>\n",
       "  <tbody>\n",
       "    <tr>\n",
       "      <th>0</th>\n",
       "      <td>2022-05-19</td>\n",
       "      <td>563</td>\n",
       "      <td>0</td>\n",
       "      <td>0</td>\n",
       "      <td>4</td>\n",
       "      <td>0</td>\n",
       "      <td>0</td>\n",
       "      <td>0</td>\n",
       "      <td>0</td>\n",
       "      <td>0</td>\n",
       "      <td>...</td>\n",
       "      <td>0</td>\n",
       "      <td>0</td>\n",
       "      <td>0</td>\n",
       "      <td>0</td>\n",
       "      <td>0</td>\n",
       "      <td>0</td>\n",
       "      <td>0</td>\n",
       "      <td>0</td>\n",
       "      <td>0</td>\n",
       "      <td>0</td>\n",
       "    </tr>\n",
       "    <tr>\n",
       "      <th>1</th>\n",
       "      <td>2022-05-19</td>\n",
       "      <td>577</td>\n",
       "      <td>0</td>\n",
       "      <td>0</td>\n",
       "      <td>1</td>\n",
       "      <td>0</td>\n",
       "      <td>0</td>\n",
       "      <td>0</td>\n",
       "      <td>0</td>\n",
       "      <td>0</td>\n",
       "      <td>...</td>\n",
       "      <td>0</td>\n",
       "      <td>0</td>\n",
       "      <td>0</td>\n",
       "      <td>0</td>\n",
       "      <td>0</td>\n",
       "      <td>0</td>\n",
       "      <td>0</td>\n",
       "      <td>0</td>\n",
       "      <td>0</td>\n",
       "      <td>0</td>\n",
       "    </tr>\n",
       "    <tr>\n",
       "      <th>2</th>\n",
       "      <td>2022-05-19</td>\n",
       "      <td>622</td>\n",
       "      <td>0</td>\n",
       "      <td>0</td>\n",
       "      <td>2</td>\n",
       "      <td>0</td>\n",
       "      <td>0</td>\n",
       "      <td>0</td>\n",
       "      <td>0</td>\n",
       "      <td>0</td>\n",
       "      <td>...</td>\n",
       "      <td>0</td>\n",
       "      <td>0</td>\n",
       "      <td>0</td>\n",
       "      <td>0</td>\n",
       "      <td>0</td>\n",
       "      <td>0</td>\n",
       "      <td>0</td>\n",
       "      <td>0</td>\n",
       "      <td>0</td>\n",
       "      <td>0</td>\n",
       "    </tr>\n",
       "    <tr>\n",
       "      <th>3</th>\n",
       "      <td>2022-05-19</td>\n",
       "      <td>634</td>\n",
       "      <td>0</td>\n",
       "      <td>0</td>\n",
       "      <td>1</td>\n",
       "      <td>0</td>\n",
       "      <td>0</td>\n",
       "      <td>0</td>\n",
       "      <td>0</td>\n",
       "      <td>0</td>\n",
       "      <td>...</td>\n",
       "      <td>0</td>\n",
       "      <td>0</td>\n",
       "      <td>0</td>\n",
       "      <td>0</td>\n",
       "      <td>0</td>\n",
       "      <td>0</td>\n",
       "      <td>0</td>\n",
       "      <td>0</td>\n",
       "      <td>0</td>\n",
       "      <td>0</td>\n",
       "    </tr>\n",
       "    <tr>\n",
       "      <th>4</th>\n",
       "      <td>2022-05-19</td>\n",
       "      <td>676</td>\n",
       "      <td>0</td>\n",
       "      <td>0</td>\n",
       "      <td>1</td>\n",
       "      <td>0</td>\n",
       "      <td>0</td>\n",
       "      <td>0</td>\n",
       "      <td>0</td>\n",
       "      <td>0</td>\n",
       "      <td>...</td>\n",
       "      <td>0</td>\n",
       "      <td>0</td>\n",
       "      <td>0</td>\n",
       "      <td>0</td>\n",
       "      <td>0</td>\n",
       "      <td>0</td>\n",
       "      <td>0</td>\n",
       "      <td>0</td>\n",
       "      <td>0</td>\n",
       "      <td>0</td>\n",
       "    </tr>\n",
       "  </tbody>\n",
       "</table>\n",
       "<p>5 rows × 36 columns</p>\n",
       "</div>"
      ],
      "text/plain": [
       "         date  bulk_campaign_id  count_click_email  count_click_mobile_push  \\\n",
       "0  2022-05-19               563                  0                        0   \n",
       "1  2022-05-19               577                  0                        0   \n",
       "2  2022-05-19               622                  0                        0   \n",
       "3  2022-05-19               634                  0                        0   \n",
       "4  2022-05-19               676                  0                        0   \n",
       "\n",
       "   count_open_email  count_open_mobile_push  count_purchase_email  \\\n",
       "0                 4                       0                     0   \n",
       "1                 1                       0                     0   \n",
       "2                 2                       0                     0   \n",
       "3                 1                       0                     0   \n",
       "4                 1                       0                     0   \n",
       "\n",
       "   count_purchase_mobile_push  count_soft_bounce_email  count_subscribe_email  \\\n",
       "0                           0                        0                      0   \n",
       "1                           0                        0                      0   \n",
       "2                           0                        0                      0   \n",
       "3                           0                        0                      0   \n",
       "4                           0                        0                      0   \n",
       "\n",
       "   ...  count_send_email  nunique_hard_bounce_email  nunique_hbq_spam_email  \\\n",
       "0  ...                 0                          0                       0   \n",
       "1  ...                 0                          0                       0   \n",
       "2  ...                 0                          0                       0   \n",
       "3  ...                 0                          0                       0   \n",
       "4  ...                 0                          0                       0   \n",
       "\n",
       "   nunique_send_email  count_soft_bounce_mobile_push  \\\n",
       "0                   0                              0   \n",
       "1                   0                              0   \n",
       "2                   0                              0   \n",
       "3                   0                              0   \n",
       "4                   0                              0   \n",
       "\n",
       "   nunique_soft_bounce_mobile_push  count_complain_email  \\\n",
       "0                                0                     0   \n",
       "1                                0                     0   \n",
       "2                                0                     0   \n",
       "3                                0                     0   \n",
       "4                                0                     0   \n",
       "\n",
       "   nunique_complain_email  count_close_mobile_push  nunique_close_mobile_push  \n",
       "0                       0                        0                          0  \n",
       "1                       0                        0                          0  \n",
       "2                       0                        0                          0  \n",
       "3                       0                        0                          0  \n",
       "4                       0                        0                          0  \n",
       "\n",
       "[5 rows x 36 columns]"
      ]
     },
     "execution_count": 10,
     "metadata": {},
     "output_type": "execute_result"
    }
   ],
   "source": [
    "full_campaign_daily_event_channel.head()"
   ]
  },
  {
   "cell_type": "markdown",
   "id": "7c630edc-11c7-46b5-9549-cd09f3382c71",
   "metadata": {},
   "source": [
    "Все файлы соответствуют стандартам оформления данных"
   ]
  },
  {
   "cell_type": "code",
   "execution_count": 11,
   "id": "1f8deab0-9ea9-4af4-af47-c5e64fcadbc1",
   "metadata": {},
   "outputs": [
    {
     "name": "stdout",
     "output_type": "stream",
     "text": [
      "<class 'pandas.core.frame.DataFrame'>\n",
      "RangeIndex: 12739798 entries, 0 to 12739797\n",
      "Data columns (total 7 columns):\n",
      " #   Column            Dtype \n",
      "---  ------            ----- \n",
      " 0   bulk_campaign_id  int64 \n",
      " 1   client_id         int64 \n",
      " 2   message_id        object\n",
      " 3   event             object\n",
      " 4   channel           object\n",
      " 5   date              object\n",
      " 6   created_at        object\n",
      "dtypes: int64(2), object(5)\n",
      "memory usage: 680.4+ MB\n"
     ]
    }
   ],
   "source": [
    "apparel_messages.info()"
   ]
  },
  {
   "cell_type": "markdown",
   "id": "9146630a-cb7a-415c-b937-eaf9179b3d61",
   "metadata": {},
   "source": [
    "Столбцы date и created_at приведу к формату datetime"
   ]
  },
  {
   "cell_type": "code",
   "execution_count": 12,
   "id": "41fe1efe-60f2-4afe-a315-2a7269b325db",
   "metadata": {},
   "outputs": [
    {
     "name": "stdout",
     "output_type": "stream",
     "text": [
      "<class 'pandas.core.frame.DataFrame'>\n",
      "RangeIndex: 202208 entries, 0 to 202207\n",
      "Data columns (total 6 columns):\n",
      " #   Column        Non-Null Count   Dtype  \n",
      "---  ------        --------------   -----  \n",
      " 0   client_id     202208 non-null  int64  \n",
      " 1   quantity      202208 non-null  int64  \n",
      " 2   price         202208 non-null  float64\n",
      " 3   category_ids  202208 non-null  object \n",
      " 4   date          202208 non-null  object \n",
      " 5   message_id    202208 non-null  object \n",
      "dtypes: float64(1), int64(2), object(3)\n",
      "memory usage: 9.3+ MB\n"
     ]
    }
   ],
   "source": [
    "apparel_purchases.info()"
   ]
  },
  {
   "cell_type": "markdown",
   "id": "19d81d0f-ecb3-4d6a-8ab8-79c8f9f9d801",
   "metadata": {},
   "source": [
    "Столбец date приведу к формату datetime"
   ]
  },
  {
   "cell_type": "code",
   "execution_count": 13,
   "id": "2db76d1d-0a36-44ec-9c1d-a9f2136ef8ca",
   "metadata": {},
   "outputs": [
    {
     "name": "stdout",
     "output_type": "stream",
     "text": [
      "<class 'pandas.core.frame.DataFrame'>\n",
      "RangeIndex: 49849 entries, 0 to 49848\n",
      "Data columns (total 2 columns):\n",
      " #   Column     Non-Null Count  Dtype\n",
      "---  ------     --------------  -----\n",
      " 0   client_id  49849 non-null  int64\n",
      " 1   target     49849 non-null  int64\n",
      "dtypes: int64(2)\n",
      "memory usage: 779.0 KB\n"
     ]
    }
   ],
   "source": [
    "target.info()"
   ]
  },
  {
   "cell_type": "markdown",
   "id": "97324695-efdb-4493-a395-a8cfc43d9bb9",
   "metadata": {},
   "source": [
    "Здесь с типами данных всё ок"
   ]
  },
  {
   "cell_type": "code",
   "execution_count": 14,
   "id": "0ac50014-173c-4cdc-b917-7a2ebbc74990",
   "metadata": {},
   "outputs": [
    {
     "name": "stdout",
     "output_type": "stream",
     "text": [
      "<class 'pandas.core.frame.DataFrame'>\n",
      "RangeIndex: 131072 entries, 0 to 131071\n",
      "Data columns (total 24 columns):\n",
      " #   Column               Non-Null Count   Dtype \n",
      "---  ------               --------------   ----- \n",
      " 0   date                 131072 non-null  object\n",
      " 1   bulk_campaign_id     131072 non-null  int64 \n",
      " 2   count_click          131072 non-null  int64 \n",
      " 3   count_complain       131072 non-null  int64 \n",
      " 4   count_hard_bounce    131072 non-null  int64 \n",
      " 5   count_open           131072 non-null  int64 \n",
      " 6   count_purchase       131072 non-null  int64 \n",
      " 7   count_send           131072 non-null  int64 \n",
      " 8   count_soft_bounce    131072 non-null  int64 \n",
      " 9   count_subscribe      131072 non-null  int64 \n",
      " 10  count_unsubscribe    131072 non-null  int64 \n",
      " 11  nunique_click        131072 non-null  int64 \n",
      " 12  nunique_complain     131072 non-null  int64 \n",
      " 13  nunique_hard_bounce  131072 non-null  int64 \n",
      " 14  nunique_open         131072 non-null  int64 \n",
      " 15  nunique_purchase     131072 non-null  int64 \n",
      " 16  nunique_send         131072 non-null  int64 \n",
      " 17  nunique_soft_bounce  131072 non-null  int64 \n",
      " 18  nunique_subscribe    131072 non-null  int64 \n",
      " 19  nunique_unsubscribe  131072 non-null  int64 \n",
      " 20  count_hbq_spam       131072 non-null  int64 \n",
      " 21  nunique_hbq_spam     131072 non-null  int64 \n",
      " 22  count_close          131072 non-null  int64 \n",
      " 23  nunique_close        131072 non-null  int64 \n",
      "dtypes: int64(23), object(1)\n",
      "memory usage: 24.0+ MB\n"
     ]
    }
   ],
   "source": [
    "full_campaign_daily_event.info()"
   ]
  },
  {
   "cell_type": "markdown",
   "id": "91b10d59-bb30-4ac6-b8b2-c13dae214773",
   "metadata": {},
   "source": [
    "Столбец date приведу к формату datetime"
   ]
  },
  {
   "cell_type": "code",
   "execution_count": 15,
   "id": "d316e1e8-307e-4bc5-b0dd-21ce96b05446",
   "metadata": {},
   "outputs": [
    {
     "name": "stdout",
     "output_type": "stream",
     "text": [
      "<class 'pandas.core.frame.DataFrame'>\n",
      "RangeIndex: 131072 entries, 0 to 131071\n",
      "Data columns (total 36 columns):\n",
      " #   Column                           Non-Null Count   Dtype \n",
      "---  ------                           --------------   ----- \n",
      " 0   date                             131072 non-null  object\n",
      " 1   bulk_campaign_id                 131072 non-null  int64 \n",
      " 2   count_click_email                131072 non-null  int64 \n",
      " 3   count_click_mobile_push          131072 non-null  int64 \n",
      " 4   count_open_email                 131072 non-null  int64 \n",
      " 5   count_open_mobile_push           131072 non-null  int64 \n",
      " 6   count_purchase_email             131072 non-null  int64 \n",
      " 7   count_purchase_mobile_push       131072 non-null  int64 \n",
      " 8   count_soft_bounce_email          131072 non-null  int64 \n",
      " 9   count_subscribe_email            131072 non-null  int64 \n",
      " 10  count_unsubscribe_email          131072 non-null  int64 \n",
      " 11  nunique_click_email              131072 non-null  int64 \n",
      " 12  nunique_click_mobile_push        131072 non-null  int64 \n",
      " 13  nunique_open_email               131072 non-null  int64 \n",
      " 14  nunique_open_mobile_push         131072 non-null  int64 \n",
      " 15  nunique_purchase_email           131072 non-null  int64 \n",
      " 16  nunique_purchase_mobile_push     131072 non-null  int64 \n",
      " 17  nunique_soft_bounce_email        131072 non-null  int64 \n",
      " 18  nunique_subscribe_email          131072 non-null  int64 \n",
      " 19  nunique_unsubscribe_email        131072 non-null  int64 \n",
      " 20  count_hard_bounce_mobile_push    131072 non-null  int64 \n",
      " 21  count_send_mobile_push           131072 non-null  int64 \n",
      " 22  nunique_hard_bounce_mobile_push  131072 non-null  int64 \n",
      " 23  nunique_send_mobile_push         131072 non-null  int64 \n",
      " 24  count_hard_bounce_email          131072 non-null  int64 \n",
      " 25  count_hbq_spam_email             131072 non-null  int64 \n",
      " 26  count_send_email                 131072 non-null  int64 \n",
      " 27  nunique_hard_bounce_email        131072 non-null  int64 \n",
      " 28  nunique_hbq_spam_email           131072 non-null  int64 \n",
      " 29  nunique_send_email               131072 non-null  int64 \n",
      " 30  count_soft_bounce_mobile_push    131072 non-null  int64 \n",
      " 31  nunique_soft_bounce_mobile_push  131072 non-null  int64 \n",
      " 32  count_complain_email             131072 non-null  int64 \n",
      " 33  nunique_complain_email           131072 non-null  int64 \n",
      " 34  count_close_mobile_push          131072 non-null  int64 \n",
      " 35  nunique_close_mobile_push        131072 non-null  int64 \n",
      "dtypes: int64(35), object(1)\n",
      "memory usage: 36.0+ MB\n"
     ]
    }
   ],
   "source": [
    "full_campaign_daily_event_channel.info()"
   ]
  },
  {
   "cell_type": "markdown",
   "id": "50447c4f-3c25-450d-910d-23e6fb5e27f0",
   "metadata": {},
   "source": [
    "Столбец date приведу к формату datetime"
   ]
  },
  {
   "cell_type": "code",
   "execution_count": 16,
   "id": "8209b5a3-3d2b-446c-aaa7-3912996e7833",
   "metadata": {},
   "outputs": [],
   "source": [
    "apparel_messages['date'] = pd.to_datetime(apparel_messages['date'], format='%Y-%m-%d')\n",
    "apparel_messages['created_at'] = pd.to_datetime(apparel_messages['created_at'], format='%Y-%m-%d %H:%M:%S')\n",
    "apparel_purchases['date'] = pd.to_datetime(apparel_purchases['date'], format='%Y-%m-%d')\n",
    "full_campaign_daily_event['date'] = pd.to_datetime(full_campaign_daily_event['date'], format='%Y-%m-%d')\n",
    "full_campaign_daily_event_channel['date'] = pd.to_datetime(full_campaign_daily_event_channel['date'], format='%Y-%m-%d')"
   ]
  },
  {
   "cell_type": "markdown",
   "id": "96b32a62-8a3a-4778-9169-ec801eea9201",
   "metadata": {},
   "source": [
    "Типы данных успешно изменены на необходимые"
   ]
  },
  {
   "cell_type": "markdown",
   "id": "093cf6bc-18af-4547-bce5-1819aafc8eaa",
   "metadata": {},
   "source": [
    "## 2. Предобработка данных"
   ]
  },
  {
   "cell_type": "markdown",
   "id": "0c17d91c-7a89-4607-a7f8-879c69c4022c",
   "metadata": {},
   "source": [
    "Проверю наличие пропущенных значений и дубликатов в датафреймах"
   ]
  },
  {
   "cell_type": "code",
   "execution_count": 17,
   "id": "0f3e19f0-d1fb-4d16-be48-07069ffc43ef",
   "metadata": {},
   "outputs": [
    {
     "data": {
      "text/plain": [
       "client_id       0\n",
       "quantity        0\n",
       "price           0\n",
       "category_ids    0\n",
       "date            0\n",
       "message_id      0\n",
       "dtype: int64"
      ]
     },
     "execution_count": 17,
     "metadata": {},
     "output_type": "execute_result"
    }
   ],
   "source": [
    "apparel_purchases.isna().sum()"
   ]
  },
  {
   "cell_type": "code",
   "execution_count": 18,
   "id": "0278536a-5cb4-4f58-b950-60d274d5dacd",
   "metadata": {},
   "outputs": [
    {
     "data": {
      "text/plain": [
       "bulk_campaign_id    0\n",
       "client_id           0\n",
       "message_id          0\n",
       "event               0\n",
       "channel             0\n",
       "date                0\n",
       "created_at          0\n",
       "dtype: int64"
      ]
     },
     "execution_count": 18,
     "metadata": {},
     "output_type": "execute_result"
    }
   ],
   "source": [
    "apparel_messages.isna().sum()"
   ]
  },
  {
   "cell_type": "code",
   "execution_count": 19,
   "id": "306832aa-c57e-4f2b-8e3b-2c2fd47019bf",
   "metadata": {},
   "outputs": [
    {
     "data": {
      "text/plain": [
       "client_id    0\n",
       "target       0\n",
       "dtype: int64"
      ]
     },
     "execution_count": 19,
     "metadata": {},
     "output_type": "execute_result"
    }
   ],
   "source": [
    "target.isna().sum()"
   ]
  },
  {
   "cell_type": "code",
   "execution_count": 20,
   "id": "0b2fcf92-0fdc-46e9-a89a-00be0c0601c5",
   "metadata": {},
   "outputs": [
    {
     "data": {
      "text/plain": [
       "date                   0\n",
       "bulk_campaign_id       0\n",
       "count_click            0\n",
       "count_complain         0\n",
       "count_hard_bounce      0\n",
       "count_open             0\n",
       "count_purchase         0\n",
       "count_send             0\n",
       "count_soft_bounce      0\n",
       "count_subscribe        0\n",
       "count_unsubscribe      0\n",
       "nunique_click          0\n",
       "nunique_complain       0\n",
       "nunique_hard_bounce    0\n",
       "nunique_open           0\n",
       "nunique_purchase       0\n",
       "nunique_send           0\n",
       "nunique_soft_bounce    0\n",
       "nunique_subscribe      0\n",
       "nunique_unsubscribe    0\n",
       "count_hbq_spam         0\n",
       "nunique_hbq_spam       0\n",
       "count_close            0\n",
       "nunique_close          0\n",
       "dtype: int64"
      ]
     },
     "execution_count": 20,
     "metadata": {},
     "output_type": "execute_result"
    }
   ],
   "source": [
    "full_campaign_daily_event.isna().sum()"
   ]
  },
  {
   "cell_type": "code",
   "execution_count": 21,
   "id": "55a0d5ec-e2b6-4ce5-b07e-0f48d5b62356",
   "metadata": {},
   "outputs": [
    {
     "data": {
      "text/plain": [
       "date                               0\n",
       "bulk_campaign_id                   0\n",
       "count_click_email                  0\n",
       "count_click_mobile_push            0\n",
       "count_open_email                   0\n",
       "count_open_mobile_push             0\n",
       "count_purchase_email               0\n",
       "count_purchase_mobile_push         0\n",
       "count_soft_bounce_email            0\n",
       "count_subscribe_email              0\n",
       "count_unsubscribe_email            0\n",
       "nunique_click_email                0\n",
       "nunique_click_mobile_push          0\n",
       "nunique_open_email                 0\n",
       "nunique_open_mobile_push           0\n",
       "nunique_purchase_email             0\n",
       "nunique_purchase_mobile_push       0\n",
       "nunique_soft_bounce_email          0\n",
       "nunique_subscribe_email            0\n",
       "nunique_unsubscribe_email          0\n",
       "count_hard_bounce_mobile_push      0\n",
       "count_send_mobile_push             0\n",
       "nunique_hard_bounce_mobile_push    0\n",
       "nunique_send_mobile_push           0\n",
       "count_hard_bounce_email            0\n",
       "count_hbq_spam_email               0\n",
       "count_send_email                   0\n",
       "nunique_hard_bounce_email          0\n",
       "nunique_hbq_spam_email             0\n",
       "nunique_send_email                 0\n",
       "count_soft_bounce_mobile_push      0\n",
       "nunique_soft_bounce_mobile_push    0\n",
       "count_complain_email               0\n",
       "nunique_complain_email             0\n",
       "count_close_mobile_push            0\n",
       "nunique_close_mobile_push          0\n",
       "dtype: int64"
      ]
     },
     "execution_count": 21,
     "metadata": {},
     "output_type": "execute_result"
    }
   ],
   "source": [
    "full_campaign_daily_event_channel.isna().sum()"
   ]
  },
  {
   "cell_type": "markdown",
   "id": "15ec12ba-8e6d-4445-94ba-8a7e277dfb97",
   "metadata": {},
   "source": [
    "Отлично! Пропуски во всех датафреймах отсутствуют"
   ]
  },
  {
   "cell_type": "markdown",
   "id": "03636bd6-3703-4f3a-b197-eba1efdcd213",
   "metadata": {},
   "source": [
    "Проверю дубликаты в данных"
   ]
  },
  {
   "cell_type": "code",
   "execution_count": 22,
   "id": "c5018348-62c0-4d19-9195-6d09db63addb",
   "metadata": {},
   "outputs": [
    {
     "data": {
      "text/plain": [
       "73020"
      ]
     },
     "execution_count": 22,
     "metadata": {},
     "output_type": "execute_result"
    }
   ],
   "source": [
    "apparel_purchases.duplicated().sum()"
   ]
  },
  {
   "cell_type": "code",
   "execution_count": 23,
   "id": "bd8ecba3-8f72-4f9c-8cfe-6b4759360545",
   "metadata": {},
   "outputs": [
    {
     "data": {
      "text/plain": [
       "48610"
      ]
     },
     "execution_count": 23,
     "metadata": {},
     "output_type": "execute_result"
    }
   ],
   "source": [
    "apparel_messages.duplicated().sum()"
   ]
  },
  {
   "cell_type": "code",
   "execution_count": 24,
   "id": "8042080b-d599-4a6d-ba15-9afd9c294f07",
   "metadata": {},
   "outputs": [
    {
     "data": {
      "text/plain": [
       "0"
      ]
     },
     "execution_count": 24,
     "metadata": {},
     "output_type": "execute_result"
    }
   ],
   "source": [
    "target.duplicated().sum()"
   ]
  },
  {
   "cell_type": "code",
   "execution_count": 25,
   "id": "913193ce-2acf-44a3-99b6-9e7d8d7ef0b2",
   "metadata": {},
   "outputs": [
    {
     "data": {
      "text/plain": [
       "0"
      ]
     },
     "execution_count": 25,
     "metadata": {},
     "output_type": "execute_result"
    }
   ],
   "source": [
    "full_campaign_daily_event.duplicated().sum()"
   ]
  },
  {
   "cell_type": "code",
   "execution_count": 26,
   "id": "5d500124-6d4d-4962-a050-ed4c70ab5d33",
   "metadata": {},
   "outputs": [
    {
     "data": {
      "text/plain": [
       "0"
      ]
     },
     "execution_count": 26,
     "metadata": {},
     "output_type": "execute_result"
    }
   ],
   "source": [
    "full_campaign_daily_event_channel.duplicated().sum()"
   ]
  },
  {
   "cell_type": "markdown",
   "id": "3a9310a7-03ff-4998-a503-70d9b5eb720f",
   "metadata": {},
   "source": [
    "Явные дубликаты присутствуют в: apparel_purchases - 73020, apparel_messages - 48610"
   ]
  },
  {
   "cell_type": "markdown",
   "id": "9bc11f65-cfce-4cb9-b3a0-e4426886b412",
   "metadata": {},
   "source": [
    "Приняла решение избавиться от явных дубликатов, так как в датафрейме есть только дата, но нет времени"
   ]
  },
  {
   "cell_type": "code",
   "execution_count": 27,
   "id": "15711cf3-3bea-4b2f-b78e-e2fb02cd69bc",
   "metadata": {},
   "outputs": [],
   "source": [
    "apparel_purchases = apparel_purchases.drop_duplicates()"
   ]
  },
  {
   "cell_type": "code",
   "execution_count": 28,
   "id": "77eeb013-74c3-4b24-862a-82ac22557882",
   "metadata": {},
   "outputs": [
    {
     "data": {
      "text/plain": [
       "0"
      ]
     },
     "execution_count": 28,
     "metadata": {},
     "output_type": "execute_result"
    }
   ],
   "source": [
    "apparel_purchases.duplicated().sum()"
   ]
  },
  {
   "cell_type": "code",
   "execution_count": 29,
   "id": "89989192-917e-4132-886c-d46d62f44b50",
   "metadata": {},
   "outputs": [],
   "source": [
    "apparel_messages = apparel_messages.drop_duplicates()"
   ]
  },
  {
   "cell_type": "code",
   "execution_count": 30,
   "id": "c8675e4b-5728-42b6-9159-5bcbd89acbb5",
   "metadata": {},
   "outputs": [
    {
     "data": {
      "text/plain": [
       "0"
      ]
     },
     "execution_count": 30,
     "metadata": {},
     "output_type": "execute_result"
    }
   ],
   "source": [
    "apparel_messages.duplicated().sum()"
   ]
  },
  {
   "cell_type": "markdown",
   "id": "e7aa7281-9e7b-4664-a55c-328ba666cd7d",
   "metadata": {},
   "source": [
    "# apparel_purchases"
   ]
  },
  {
   "cell_type": "code",
   "execution_count": 31,
   "id": "e78418a4-b23c-4ad1-b5b9-14ecf45e911d",
   "metadata": {},
   "outputs": [
    {
     "name": "stdout",
     "output_type": "stream",
     "text": [
      "<class 'pandas.core.frame.DataFrame'>\n",
      "Index: 129188 entries, 0 to 202207\n",
      "Data columns (total 6 columns):\n",
      " #   Column        Non-Null Count   Dtype         \n",
      "---  ------        --------------   -----         \n",
      " 0   client_id     129188 non-null  int64         \n",
      " 1   quantity      129188 non-null  int64         \n",
      " 2   price         129188 non-null  float64       \n",
      " 3   category_ids  129188 non-null  object        \n",
      " 4   date          129188 non-null  datetime64[ns]\n",
      " 5   message_id    129188 non-null  object        \n",
      "dtypes: datetime64[ns](1), float64(1), int64(2), object(2)\n",
      "memory usage: 6.9+ MB\n"
     ]
    }
   ],
   "source": [
    "apparel_purchases.info()"
   ]
  },
  {
   "cell_type": "code",
   "execution_count": 32,
   "id": "5c0a03bb-87cd-41ef-8103-9a0072dcd0c1",
   "metadata": {},
   "outputs": [
    {
     "data": {
      "text/plain": [
       "933"
      ]
     },
     "execution_count": 32,
     "metadata": {},
     "output_type": "execute_result"
    }
   ],
   "source": [
    "apparel_purchases['category_ids'].nunique()"
   ]
  },
  {
   "cell_type": "code",
   "execution_count": 33,
   "id": "95bba41e-4e1f-4b6b-8afe-b0d3ab8fcb44",
   "metadata": {},
   "outputs": [
    {
     "data": {
      "text/plain": [
       "category_ids\n",
       "['4', '28', '44', '528']            1\n",
       "['5562', '5632', '5603', '1095']    1\n",
       "['5963', '5959', '6021', '999']     1\n",
       "['4', '29', '314', '1579']          1\n",
       "['5562', '5558', '5618', '878']     1\n",
       "['5562', '5589', '5623', '1775']    1\n",
       "['6060', '6057', '6074', '1211']    1\n",
       "['4', '5837', '6013', '863']        1\n",
       "['5562', '5597', '5540', '916']     1\n",
       "['5562', '5632', '5552', '1089']    1\n",
       "['4', '27', '205', '1081']          1\n",
       "['1', '8', '280', '710']            1\n",
       "['4', '28', '239', '6202']          1\n",
       "['4', '27', '278', '644']           1\n",
       "['5562', '5632', '5639', '1629']    1\n",
       "['5562', '5599', '5539', '5950']    1\n",
       "['4', '5837', '5836', '839']        1\n",
       "['5562', '5597', '5696', '1429']    1\n",
       "['4', '27', '350', '1589']          1\n",
       "['4', '1822', '1824', '1615']       1\n",
       "['4', '27', '278', '471']           1\n",
       "['5562', '5597', '5642', '1218']    1\n",
       "['5562', '5589', '5613', '1727']    1\n",
       "['4', '28', '44', '1593']           1\n",
       "['4', '5837', '5838', '5835']       1\n",
       "['4', '44', '1600']                 1\n",
       "['5562', '5597', '5696', '751']     1\n",
       "['5562', '5597', '5696', '5529']    1\n",
       "['4', '5837', '6013', '1607']       1\n",
       "['5562', '5589', '5588', '1809']    1\n",
       "Name: count, dtype: int64"
      ]
     },
     "execution_count": 33,
     "metadata": {},
     "output_type": "execute_result"
    }
   ],
   "source": [
    "apparel_purchases['category_ids'].value_counts(ascending=True).head(30)"
   ]
  },
  {
   "cell_type": "markdown",
   "id": "cc8eb42a-5036-4104-9d2e-b0ad0bdcfe27",
   "metadata": {},
   "source": [
    "Удалю лишние символы"
   ]
  },
  {
   "cell_type": "code",
   "execution_count": 34,
   "id": "7c84305d-c52c-46ae-ba93-17bd4655b247",
   "metadata": {},
   "outputs": [],
   "source": [
    "def remove(s):\n",
    "    return re.sub('[^0-9]+', ' ', s)\n",
    "\n",
    "apparel_purchases['category_ids'] = apparel_purchases['category_ids'].apply(remove)"
   ]
  },
  {
   "cell_type": "markdown",
   "id": "33ced279-6036-4002-a723-e32e60e3a885",
   "metadata": {},
   "source": [
    "Также заменю пробелы на заглушку -9"
   ]
  },
  {
   "cell_type": "code",
   "execution_count": 35,
   "id": "6a6e3850-e204-4944-8fc7-84b067df1422",
   "metadata": {},
   "outputs": [],
   "source": [
    "apparel_purchases.loc[apparel_purchases['category_ids'] == ' ', 'category_ids'] = -9"
   ]
  },
  {
   "cell_type": "code",
   "execution_count": 36,
   "id": "78d192a9-a3e0-4e66-b31d-93aa56840750",
   "metadata": {},
   "outputs": [
    {
     "data": {
      "text/plain": [
       "932"
      ]
     },
     "execution_count": 36,
     "metadata": {},
     "output_type": "execute_result"
    }
   ],
   "source": [
    "apparel_purchases['category_ids'].nunique()"
   ]
  },
  {
   "cell_type": "markdown",
   "id": "47f11dd0-28e4-4e93-bd55-1af9bac5ee35",
   "metadata": {},
   "source": [
    "# apparel_messages"
   ]
  },
  {
   "cell_type": "code",
   "execution_count": 37,
   "id": "9aaa6d27-579b-4b51-b70a-a4db0c266624",
   "metadata": {},
   "outputs": [
    {
     "data": {
      "text/plain": [
       "array(['open', 'click', 'purchase', 'send', 'unsubscribe', 'hbq_spam',\n",
       "       'hard_bounce', 'subscribe', 'soft_bounce', 'complain', 'close'],\n",
       "      dtype=object)"
      ]
     },
     "execution_count": 37,
     "metadata": {},
     "output_type": "execute_result"
    }
   ],
   "source": [
    "apparel_messages['event'].unique()"
   ]
  },
  {
   "cell_type": "code",
   "execution_count": 38,
   "id": "6e0cf05d-45ae-4265-8455-71e513c8d085",
   "metadata": {},
   "outputs": [
    {
     "data": {
      "text/plain": [
       "array(['email', 'mobile_push'], dtype=object)"
      ]
     },
     "execution_count": 38,
     "metadata": {},
     "output_type": "execute_result"
    }
   ],
   "source": [
    "apparel_messages['channel'].unique()"
   ]
  },
  {
   "cell_type": "markdown",
   "id": "213d1aa6-797b-47d9-b924-a147c64d1427",
   "metadata": {},
   "source": [
    "Неявные дубликаты отсутствуют"
   ]
  },
  {
   "cell_type": "markdown",
   "id": "d3a81c9b-3446-46f6-ac24-b90368c3b4e1",
   "metadata": {},
   "source": [
    "# количественные значения в таблицах"
   ]
  },
  {
   "cell_type": "code",
   "execution_count": 39,
   "id": "3441486e-91ae-4446-9f01-da1dab225c17",
   "metadata": {},
   "outputs": [
    {
     "data": {
      "text/html": [
       "<div>\n",
       "<style scoped>\n",
       "    .dataframe tbody tr th:only-of-type {\n",
       "        vertical-align: middle;\n",
       "    }\n",
       "\n",
       "    .dataframe tbody tr th {\n",
       "        vertical-align: top;\n",
       "    }\n",
       "\n",
       "    .dataframe thead th {\n",
       "        text-align: right;\n",
       "    }\n",
       "</style>\n",
       "<table border=\"1\" class=\"dataframe\">\n",
       "  <thead>\n",
       "    <tr style=\"text-align: right;\">\n",
       "      <th></th>\n",
       "      <th>quantity</th>\n",
       "      <th>price</th>\n",
       "      <th>date</th>\n",
       "    </tr>\n",
       "  </thead>\n",
       "  <tbody>\n",
       "    <tr>\n",
       "      <th>count</th>\n",
       "      <td>129,188.00</td>\n",
       "      <td>129,188.00</td>\n",
       "      <td>129188</td>\n",
       "    </tr>\n",
       "    <tr>\n",
       "      <th>mean</th>\n",
       "      <td>1.01</td>\n",
       "      <td>1,264.53</td>\n",
       "      <td>2023-02-26 07:40:09.771805440</td>\n",
       "    </tr>\n",
       "    <tr>\n",
       "      <th>min</th>\n",
       "      <td>1.00</td>\n",
       "      <td>1.00</td>\n",
       "      <td>2022-05-16 00:00:00</td>\n",
       "    </tr>\n",
       "    <tr>\n",
       "      <th>25%</th>\n",
       "      <td>1.00</td>\n",
       "      <td>399.00</td>\n",
       "      <td>2022-09-09 00:00:00</td>\n",
       "    </tr>\n",
       "    <tr>\n",
       "      <th>50%</th>\n",
       "      <td>1.00</td>\n",
       "      <td>999.00</td>\n",
       "      <td>2023-03-22 00:00:00</td>\n",
       "    </tr>\n",
       "    <tr>\n",
       "      <th>75%</th>\n",
       "      <td>1.00</td>\n",
       "      <td>1,750.00</td>\n",
       "      <td>2023-06-28 00:00:00</td>\n",
       "    </tr>\n",
       "    <tr>\n",
       "      <th>max</th>\n",
       "      <td>30.00</td>\n",
       "      <td>85,499.00</td>\n",
       "      <td>2024-02-16 00:00:00</td>\n",
       "    </tr>\n",
       "    <tr>\n",
       "      <th>std</th>\n",
       "      <td>0.22</td>\n",
       "      <td>1,375.02</td>\n",
       "      <td>NaN</td>\n",
       "    </tr>\n",
       "  </tbody>\n",
       "</table>\n",
       "</div>"
      ],
      "text/plain": [
       "        quantity      price                           date\n",
       "count 129,188.00 129,188.00                         129188\n",
       "mean        1.01   1,264.53  2023-02-26 07:40:09.771805440\n",
       "min         1.00       1.00            2022-05-16 00:00:00\n",
       "25%         1.00     399.00            2022-09-09 00:00:00\n",
       "50%         1.00     999.00            2023-03-22 00:00:00\n",
       "75%         1.00   1,750.00            2023-06-28 00:00:00\n",
       "max        30.00  85,499.00            2024-02-16 00:00:00\n",
       "std         0.22   1,375.02                            NaN"
      ]
     },
     "execution_count": 39,
     "metadata": {},
     "output_type": "execute_result"
    }
   ],
   "source": [
    "apparel_purchases.drop(['client_id'], axis=1).describe()"
   ]
  },
  {
   "cell_type": "markdown",
   "id": "d7e12601-5de0-4342-a83f-9e7cbf079e74",
   "metadata": {},
   "source": [
    "Явные выбросы и аномалии в количественных значениях отсутствуют."
   ]
  },
  {
   "cell_type": "markdown",
   "id": "75228918-b4d5-40c7-98d0-b1dcf25221c0",
   "metadata": {},
   "source": [
    "# Исследовательский анализ данных"
   ]
  },
  {
   "cell_type": "code",
   "execution_count": 40,
   "id": "1d967650-a3e0-4f50-aede-f6c19d276c40",
   "metadata": {},
   "outputs": [],
   "source": [
    "def quantitative(data, col, bins=20):\n",
    "    # Вывод описательной статистики\n",
    "    print(data[col].describe())\n",
    "    # Создание фигуры и осей для графиков\n",
    "    fig, axes = plt.subplots(nrows=1, ncols=2)\n",
    "    # Гистограмма\n",
    "    axes[0].hist(data[col], bins=bins, edgecolor='black')\n",
    "    axes[0].set_title('Гистограмма распределения')\n",
    "    axes[0].set_ylabel('Частота встречаемости')\n",
    "    axes[0].set_xlabel(col)\n",
    "    # Диаграмма размаха\n",
    "    axes[1].boxplot(data[col], vert=False)\n",
    "    axes[1].set_title('Разброс значений признаков')\n",
    "    axes[1].set_xlabel(col)\n",
    "    axes[1].set_yticklabels([])\n",
    "    # Настройка внешнего вида графиков\n",
    "    plt.tight_layout()\n",
    "    plt.show()"
   ]
  },
  {
   "cell_type": "code",
   "execution_count": 41,
   "id": "ff29ea03-d678-43ff-adb2-f6296a06ee92",
   "metadata": {},
   "outputs": [],
   "source": [
    "def categorical(data, cat):\n",
    "    # Подсчет количества наблюдений для каждой категории\n",
    "    counts = data[cat].value_counts()\n",
    "    # Создание диаграммы\n",
    "    fig, ax = plt.subplots(figsize=(20, 10))\n",
    "    sns.barplot(x=counts.index, y=counts.values, ax=ax, order=counts.index)\n",
    "    # Добавление меток с количеством наблюдений\n",
    "    for i, v in enumerate(counts.values):\n",
    "        ax.text(i, v, str(v), ha='center', va='bottom')\n",
    "    # Настройка подписей осей и заголовка\n",
    "    ax.set_xlabel('Категории')\n",
    "    ax.set_ylabel('Частота встречаемости')\n",
    "    ax.set_title(f'Распределение категорий признака {cat}')\n",
    "    # Отображение диаграммы\n",
    "    plt.show()"
   ]
  },
  {
   "cell_type": "code",
   "execution_count": 42,
   "id": "62c11bfa-620f-45fc-b90e-c81eb297f7b5",
   "metadata": {},
   "outputs": [],
   "source": [
    "def categorical_top(data, cat):\n",
    "    # Фильтруем данные, исключая значения -9\n",
    "    filtered_data = data[data[cat] != -9]\n",
    "    # Строим гистограмму\n",
    "    fig, ax = plt.subplots(figsize=(20, 10))\n",
    "    sns.countplot(x=cat, data=filtered_data, order=filtered_data[cat].value_counts(ascending=False).head(10).index, ax=ax)\n",
    "    # Добавляем подписи с абсолютными значениями\n",
    "    for patch in ax.patches:\n",
    "        ax.annotate(f'{patch.get_height()}', (patch.get_x() + patch.get_width() / 2., patch.get_height()), ha='center', va='bottom')\n",
    "    # Устанавливаем заголовок и метки осей\n",
    "    ax.set_title(f'Распределение категорий признака {cat}')\n",
    "    ax.set_xlabel('Категории')\n",
    "    ax.set_ylabel('Частота встречаемости')\n",
    "    # Выводим график\n",
    "    plt.show()"
   ]
  },
  {
   "cell_type": "markdown",
   "id": "6f9eb0d4-ec78-411e-8740-e1cf3bd93519",
   "metadata": {},
   "source": [
    "**Исследовательский анализ apparel_purchases**"
   ]
  },
  {
   "cell_type": "code",
   "execution_count": 43,
   "id": "d5131c51-bb17-4eb9-b9a5-bc0a02b674b1",
   "metadata": {},
   "outputs": [
    {
     "name": "stdout",
     "output_type": "stream",
     "text": [
      "count   129,188.00\n",
      "mean          1.01\n",
      "std           0.22\n",
      "min           1.00\n",
      "25%           1.00\n",
      "50%           1.00\n",
      "75%           1.00\n",
      "max          30.00\n",
      "Name: quantity, dtype: float64\n"
     ]
    },
    {
     "data": {
      "image/png": "[encoded data removed]",
      "text/plain": [
       "<Figure size 640x480 with 2 Axes>"
      ]
     },
     "metadata": {},
     "output_type": "display_data"
    }
   ],
   "source": [
    "quantitative(apparel_purchases, 'quantity')"
   ]
  },
  {
   "cell_type": "markdown",
   "id": "9dd8bb5b-1790-4c80-8223-4f143ea76643",
   "metadata": {},
   "source": [
    "В основном покупки совершали - 1. Максимально - 30"
   ]
  },
  {
   "cell_type": "code",
   "execution_count": 44,
   "id": "d5a4c3e1-1a6e-4979-9e20-ebb2624c352e",
   "metadata": {},
   "outputs": [
    {
     "name": "stdout",
     "output_type": "stream",
     "text": [
      "count   129,188.00\n",
      "mean      1,264.53\n",
      "std       1,375.02\n",
      "min           1.00\n",
      "25%         399.00\n",
      "50%         999.00\n",
      "75%       1,750.00\n",
      "max      85,499.00\n",
      "Name: price, dtype: float64\n"
     ]
    },
    {
     "data": {
      "image/png": "[encoded data removed]",
      "text/plain": [
       "<Figure size 640x480 with 2 Axes>"
      ]
     },
     "metadata": {},
     "output_type": "display_data"
    }
   ],
   "source": [
    "quantitative(apparel_purchases, 'price', bins=50)"
   ]
  },
  {
   "cell_type": "markdown",
   "id": "6cb53eca-b71f-4705-9106-597d0a57305e",
   "metadata": {},
   "source": [
    "Суммы заказов в основном небольшие (до 10.000), можно удалить выбросы, которые составляют выше этой суммы"
   ]
  },
  {
   "cell_type": "code",
   "execution_count": 45,
   "id": "dff99581-3787-423c-b7d9-f1ea2b4f8cac",
   "metadata": {},
   "outputs": [],
   "source": [
    "apparel_purchases['price'] = apparel_purchases['price'].clip(upper=10000)"
   ]
  },
  {
   "cell_type": "code",
   "execution_count": 46,
   "id": "4b33d633-28d8-4587-ae6c-0d4f2ec2d7dd",
   "metadata": {},
   "outputs": [
    {
     "name": "stdout",
     "output_type": "stream",
     "text": [
      "count   129,188.00\n",
      "mean      1,250.78\n",
      "std       1,166.59\n",
      "min           1.00\n",
      "25%         399.00\n",
      "50%         999.00\n",
      "75%       1,750.00\n",
      "max      10,000.00\n",
      "Name: price, dtype: float64\n"
     ]
    },
    {
     "data": {
      "image/png": "[encoded data removed]",
      "text/plain": [
       "<Figure size 640x480 with 2 Axes>"
      ]
     },
     "metadata": {},
     "output_type": "display_data"
    }
   ],
   "source": [
    "quantitative(apparel_purchases, 'price', bins=50)"
   ]
  },
  {
   "cell_type": "code",
   "execution_count": 47,
   "id": "54fbc77d-e3b6-4d76-9f0d-a450c084698b",
   "metadata": {},
   "outputs": [
    {
     "data": {
      "image/png": "[encoded data removed]",
      "text/plain": [
       "<Figure size 2000x1000 with 1 Axes>"
      ]
     },
     "metadata": {},
     "output_type": "display_data"
    }
   ],
   "source": [
    "categorical_top(apparel_purchases, 'category_ids')"
   ]
  },
  {
   "cell_type": "markdown",
   "id": "d2f9ea42-5921-4aa7-b5d9-8e27154403ab",
   "metadata": {},
   "source": [
    "Почти все из топ-10 категорий входят: 4, 28"
   ]
  },
  {
   "cell_type": "markdown",
   "id": "23bbdc99-4e91-4636-b8f6-cd2d056c7bde",
   "metadata": {},
   "source": [
    "**Исследовательский анализ apparel_messages**"
   ]
  },
  {
   "cell_type": "code",
   "execution_count": 48,
   "id": "ee01006d-2c71-44f3-bb23-e1046f8b1b9f",
   "metadata": {},
   "outputs": [
    {
     "data": {
      "image/png": "[encoded data removed]",
      "text/plain": [
       "<Figure size 2000x1000 with 1 Axes>"
      ]
     },
     "metadata": {},
     "output_type": "display_data"
    }
   ],
   "source": [
    "categorical(apparel_messages, 'event')"
   ]
  },
  {
   "cell_type": "markdown",
   "id": "0e798458-bdd8-4b48-96b5-b5d19662b063",
   "metadata": {},
   "source": [
    "Здесь можно будет сделать следующие категории: положительную (открыли, нажали, совершили покупку), нейтральную (просто отправили), отрицательную (все оставшиеся категории)."
   ]
  },
  {
   "cell_type": "code",
   "execution_count": 49,
   "id": "2286ea65-5c76-4843-8547-47c4c837636b",
   "metadata": {},
   "outputs": [
    {
     "data": {
      "image/png": "[encoded data removed]",
      "text/plain": [
       "<Figure size 2000x1000 with 1 Axes>"
      ]
     },
     "metadata": {},
     "output_type": "display_data"
    }
   ],
   "source": [
    "categorical(apparel_messages, 'channel')"
   ]
  },
  {
   "cell_type": "markdown",
   "id": "09a875e1-c115-4f92-a9eb-726f024ff8db",
   "metadata": {},
   "source": [
    "Почти в 2 раза чаще письма открываются при помощи пуш-уведомлений."
   ]
  },
  {
   "cell_type": "markdown",
   "id": "068d5835-aac3-4a56-b714-18c26ca8b6fc",
   "metadata": {},
   "source": [
    "**Исследовательский анализ target**"
   ]
  },
  {
   "cell_type": "code",
   "execution_count": 50,
   "id": "c6c8238f-06de-47e9-b6d9-afeb8d15ae7c",
   "metadata": {},
   "outputs": [
    {
     "data": {
      "image/png": "[encoded data removed]",
      "text/plain": [
       "<Figure size 2000x1000 with 1 Axes>"
      ]
     },
     "metadata": {},
     "output_type": "display_data"
    }
   ],
   "source": [
    "categorical(target, 'target')"
   ]
  },
  {
   "cell_type": "markdown",
   "id": "ee51f797-ff44-4e17-8aab-08b61d779584",
   "metadata": {},
   "source": [
    "Заметен дисбаланс классов."
   ]
  },
  {
   "cell_type": "markdown",
   "id": "74087273-26c7-4de8-826d-194a2760c81c",
   "metadata": {},
   "source": [
    "# Создание новых признаков"
   ]
  },
  {
   "cell_type": "code",
   "execution_count": 51,
   "id": "881c9f80-93b3-436f-b4ef-d96b361d83fe",
   "metadata": {},
   "outputs": [
    {
     "data": {
      "text/plain": [
       "(49849, 2)"
      ]
     },
     "execution_count": 51,
     "metadata": {},
     "output_type": "execute_result"
    }
   ],
   "source": [
    "target.shape"
   ]
  },
  {
   "cell_type": "code",
   "execution_count": 52,
   "id": "e38b5e54-22a8-49b2-a3b8-3b9e824fa658",
   "metadata": {},
   "outputs": [
    {
     "data": {
      "text/html": [
       "<div>\n",
       "<style scoped>\n",
       "    .dataframe tbody tr th:only-of-type {\n",
       "        vertical-align: middle;\n",
       "    }\n",
       "\n",
       "    .dataframe tbody tr th {\n",
       "        vertical-align: top;\n",
       "    }\n",
       "\n",
       "    .dataframe thead th {\n",
       "        text-align: right;\n",
       "    }\n",
       "</style>\n",
       "<table border=\"1\" class=\"dataframe\">\n",
       "  <thead>\n",
       "    <tr style=\"text-align: right;\">\n",
       "      <th></th>\n",
       "      <th>client_id</th>\n",
       "      <th>target</th>\n",
       "      <th>messages_sent</th>\n",
       "    </tr>\n",
       "  </thead>\n",
       "  <tbody>\n",
       "    <tr>\n",
       "      <th>0</th>\n",
       "      <td>1515915625468060902</td>\n",
       "      <td>0</td>\n",
       "      <td>177.00</td>\n",
       "    </tr>\n",
       "    <tr>\n",
       "      <th>1</th>\n",
       "      <td>1515915625468061003</td>\n",
       "      <td>1</td>\n",
       "      <td>165.00</td>\n",
       "    </tr>\n",
       "    <tr>\n",
       "      <th>2</th>\n",
       "      <td>1515915625468061099</td>\n",
       "      <td>0</td>\n",
       "      <td>276.00</td>\n",
       "    </tr>\n",
       "    <tr>\n",
       "      <th>3</th>\n",
       "      <td>1515915625468061100</td>\n",
       "      <td>0</td>\n",
       "      <td>428.00</td>\n",
       "    </tr>\n",
       "    <tr>\n",
       "      <th>4</th>\n",
       "      <td>1515915625468061170</td>\n",
       "      <td>0</td>\n",
       "      <td>293.00</td>\n",
       "    </tr>\n",
       "  </tbody>\n",
       "</table>\n",
       "</div>"
      ],
      "text/plain": [
       "             client_id  target  messages_sent\n",
       "0  1515915625468060902       0         177.00\n",
       "1  1515915625468061003       1         165.00\n",
       "2  1515915625468061099       0         276.00\n",
       "3  1515915625468061100       0         428.00\n",
       "4  1515915625468061170       0         293.00"
      ]
     },
     "execution_count": 52,
     "metadata": {},
     "output_type": "execute_result"
    }
   ],
   "source": [
    "apparel_messages_per_client = apparel_messages.groupby('client_id')['message_id'].count().reset_index(name='messages_sent')\n",
    "df = target.merge(apparel_messages_per_client, on='client_id', how='left')\n",
    "\n",
    "df.head(5)"
   ]
  },
  {
   "cell_type": "code",
   "execution_count": 53,
   "id": "6d0d4f9d-4156-49c4-9e2a-d6d0d09e4d84",
   "metadata": {},
   "outputs": [
    {
     "data": {
      "text/plain": [
       "client_id        0\n",
       "target           0\n",
       "messages_sent    0\n",
       "dtype: int64"
      ]
     },
     "execution_count": 53,
     "metadata": {},
     "output_type": "execute_result"
    }
   ],
   "source": [
    "df['messages_sent'] = df['messages_sent'].fillna(df['messages_sent'].median())\n",
    "\n",
    "df.isna().sum()"
   ]
  },
  {
   "cell_type": "code",
   "execution_count": 54,
   "id": "9d575cac-2a09-46fe-9917-c39c03d9fe8a",
   "metadata": {},
   "outputs": [
    {
     "data": {
      "text/html": [
       "<div>\n",
       "<style scoped>\n",
       "    .dataframe tbody tr th:only-of-type {\n",
       "        vertical-align: middle;\n",
       "    }\n",
       "\n",
       "    .dataframe tbody tr th {\n",
       "        vertical-align: top;\n",
       "    }\n",
       "\n",
       "    .dataframe thead th {\n",
       "        text-align: right;\n",
       "    }\n",
       "</style>\n",
       "<table border=\"1\" class=\"dataframe\">\n",
       "  <thead>\n",
       "    <tr style=\"text-align: right;\">\n",
       "      <th></th>\n",
       "      <th>client_id</th>\n",
       "      <th>target</th>\n",
       "      <th>messages_sent</th>\n",
       "      <th>quantity_total</th>\n",
       "    </tr>\n",
       "  </thead>\n",
       "  <tbody>\n",
       "    <tr>\n",
       "      <th>0</th>\n",
       "      <td>1515915625468060902</td>\n",
       "      <td>0</td>\n",
       "      <td>177.00</td>\n",
       "      <td>5</td>\n",
       "    </tr>\n",
       "    <tr>\n",
       "      <th>1</th>\n",
       "      <td>1515915625468061003</td>\n",
       "      <td>1</td>\n",
       "      <td>165.00</td>\n",
       "      <td>6</td>\n",
       "    </tr>\n",
       "    <tr>\n",
       "      <th>2</th>\n",
       "      <td>1515915625468061099</td>\n",
       "      <td>0</td>\n",
       "      <td>276.00</td>\n",
       "      <td>1</td>\n",
       "    </tr>\n",
       "    <tr>\n",
       "      <th>3</th>\n",
       "      <td>1515915625468061100</td>\n",
       "      <td>0</td>\n",
       "      <td>428.00</td>\n",
       "      <td>1</td>\n",
       "    </tr>\n",
       "    <tr>\n",
       "      <th>4</th>\n",
       "      <td>1515915625468061170</td>\n",
       "      <td>0</td>\n",
       "      <td>293.00</td>\n",
       "      <td>8</td>\n",
       "    </tr>\n",
       "  </tbody>\n",
       "</table>\n",
       "</div>"
      ],
      "text/plain": [
       "             client_id  target  messages_sent  quantity_total\n",
       "0  1515915625468060902       0         177.00               5\n",
       "1  1515915625468061003       1         165.00               6\n",
       "2  1515915625468061099       0         276.00               1\n",
       "3  1515915625468061100       0         428.00               1\n",
       "4  1515915625468061170       0         293.00               8"
      ]
     },
     "execution_count": 54,
     "metadata": {},
     "output_type": "execute_result"
    }
   ],
   "source": [
    "apparel_quantity_total = apparel_purchases.groupby('client_id')['quantity'].sum().rename('quantity_total').reset_index()\n",
    "df = df.merge(apparel_quantity_total, on='client_id', how='left')\n",
    "\n",
    "df.head(5)"
   ]
  },
  {
   "cell_type": "code",
   "execution_count": 55,
   "id": "39e05641-f6ad-4ff7-b90b-702c695ccf4b",
   "metadata": {},
   "outputs": [
    {
     "data": {
      "text/plain": [
       "client_id         0\n",
       "target            0\n",
       "messages_sent     0\n",
       "quantity_total    0\n",
       "dtype: int64"
      ]
     },
     "execution_count": 55,
     "metadata": {},
     "output_type": "execute_result"
    }
   ],
   "source": [
    "df.isna().sum()"
   ]
  },
  {
   "cell_type": "code",
   "execution_count": 56,
   "id": "0a2741b9-59b8-4f32-a513-40e6bdc97610",
   "metadata": {},
   "outputs": [
    {
     "data": {
      "text/html": [
       "<div>\n",
       "<style scoped>\n",
       "    .dataframe tbody tr th:only-of-type {\n",
       "        vertical-align: middle;\n",
       "    }\n",
       "\n",
       "    .dataframe tbody tr th {\n",
       "        vertical-align: top;\n",
       "    }\n",
       "\n",
       "    .dataframe thead th {\n",
       "        text-align: right;\n",
       "    }\n",
       "</style>\n",
       "<table border=\"1\" class=\"dataframe\">\n",
       "  <thead>\n",
       "    <tr style=\"text-align: right;\">\n",
       "      <th></th>\n",
       "      <th>client_id</th>\n",
       "      <th>target</th>\n",
       "      <th>messages_sent</th>\n",
       "      <th>quantity_total</th>\n",
       "      <th>total_spent</th>\n",
       "    </tr>\n",
       "  </thead>\n",
       "  <tbody>\n",
       "    <tr>\n",
       "      <th>0</th>\n",
       "      <td>1515915625468060902</td>\n",
       "      <td>0</td>\n",
       "      <td>177.00</td>\n",
       "      <td>5</td>\n",
       "      <td>4,795.00</td>\n",
       "    </tr>\n",
       "    <tr>\n",
       "      <th>1</th>\n",
       "      <td>1515915625468061003</td>\n",
       "      <td>1</td>\n",
       "      <td>165.00</td>\n",
       "      <td>6</td>\n",
       "      <td>14,135.00</td>\n",
       "    </tr>\n",
       "    <tr>\n",
       "      <th>2</th>\n",
       "      <td>1515915625468061099</td>\n",
       "      <td>0</td>\n",
       "      <td>276.00</td>\n",
       "      <td>1</td>\n",
       "      <td>299.00</td>\n",
       "    </tr>\n",
       "    <tr>\n",
       "      <th>3</th>\n",
       "      <td>1515915625468061100</td>\n",
       "      <td>0</td>\n",
       "      <td>428.00</td>\n",
       "      <td>1</td>\n",
       "      <td>1,049.00</td>\n",
       "    </tr>\n",
       "    <tr>\n",
       "      <th>4</th>\n",
       "      <td>1515915625468061170</td>\n",
       "      <td>0</td>\n",
       "      <td>293.00</td>\n",
       "      <td>8</td>\n",
       "      <td>14,102.00</td>\n",
       "    </tr>\n",
       "  </tbody>\n",
       "</table>\n",
       "</div>"
      ],
      "text/plain": [
       "             client_id  target  messages_sent  quantity_total  total_spent\n",
       "0  1515915625468060902       0         177.00               5     4,795.00\n",
       "1  1515915625468061003       1         165.00               6    14,135.00\n",
       "2  1515915625468061099       0         276.00               1       299.00\n",
       "3  1515915625468061100       0         428.00               1     1,049.00\n",
       "4  1515915625468061170       0         293.00               8    14,102.00"
      ]
     },
     "execution_count": 56,
     "metadata": {},
     "output_type": "execute_result"
    }
   ],
   "source": [
    "apparel_total_spent = apparel_purchases.groupby('client_id')['price'].sum().rename('total_spent').reset_index()\n",
    "df = df.merge(apparel_total_spent, on='client_id', how='left')\n",
    "\n",
    "df.head(5)"
   ]
  },
  {
   "cell_type": "code",
   "execution_count": 57,
   "id": "9d45dd6c-8774-4aff-8849-eb1b57eceb4f",
   "metadata": {},
   "outputs": [
    {
     "data": {
      "text/plain": [
       "client_id         0\n",
       "target            0\n",
       "messages_sent     0\n",
       "quantity_total    0\n",
       "total_spent       0\n",
       "dtype: int64"
      ]
     },
     "execution_count": 57,
     "metadata": {},
     "output_type": "execute_result"
    }
   ],
   "source": [
    "df.isna().sum()"
   ]
  },
  {
   "cell_type": "code",
   "execution_count": 58,
   "id": "c13c3e18-80e2-44ec-a06e-f980c767f7d0",
   "metadata": {},
   "outputs": [
    {
     "data": {
      "text/html": [
       "<div>\n",
       "<style scoped>\n",
       "    .dataframe tbody tr th:only-of-type {\n",
       "        vertical-align: middle;\n",
       "    }\n",
       "\n",
       "    .dataframe tbody tr th {\n",
       "        vertical-align: top;\n",
       "    }\n",
       "\n",
       "    .dataframe thead th {\n",
       "        text-align: right;\n",
       "    }\n",
       "</style>\n",
       "<table border=\"1\" class=\"dataframe\">\n",
       "  <thead>\n",
       "    <tr style=\"text-align: right;\">\n",
       "      <th></th>\n",
       "      <th>client_id</th>\n",
       "      <th>date</th>\n",
       "    </tr>\n",
       "  </thead>\n",
       "  <tbody>\n",
       "    <tr>\n",
       "      <th>3695</th>\n",
       "      <td>1515915625468060902</td>\n",
       "      <td>2022-05-27</td>\n",
       "    </tr>\n",
       "    <tr>\n",
       "      <th>3696</th>\n",
       "      <td>1515915625468060902</td>\n",
       "      <td>2022-05-27</td>\n",
       "    </tr>\n",
       "    <tr>\n",
       "      <th>3697</th>\n",
       "      <td>1515915625468060902</td>\n",
       "      <td>2022-05-27</td>\n",
       "    </tr>\n",
       "    <tr>\n",
       "      <th>3700</th>\n",
       "      <td>1515915625468060902</td>\n",
       "      <td>2022-05-27</td>\n",
       "    </tr>\n",
       "    <tr>\n",
       "      <th>3701</th>\n",
       "      <td>1515915625468060902</td>\n",
       "      <td>2022-05-27</td>\n",
       "    </tr>\n",
       "  </tbody>\n",
       "</table>\n",
       "</div>"
      ],
      "text/plain": [
       "                client_id       date\n",
       "3695  1515915625468060902 2022-05-27\n",
       "3696  1515915625468060902 2022-05-27\n",
       "3697  1515915625468060902 2022-05-27\n",
       "3700  1515915625468060902 2022-05-27\n",
       "3701  1515915625468060902 2022-05-27"
      ]
     },
     "execution_count": 58,
     "metadata": {},
     "output_type": "execute_result"
    }
   ],
   "source": [
    "apparel_purchases_sorted = apparel_purchases[['client_id','date']].sort_values(['client_id','date'])\n",
    "apparel_purchases_sorted.head(5)"
   ]
  },
  {
   "cell_type": "code",
   "execution_count": 59,
   "id": "5c40208d-782f-4c97-aeb4-109ac7136c44",
   "metadata": {},
   "outputs": [
    {
     "data": {
      "text/html": [
       "<div>\n",
       "<style scoped>\n",
       "    .dataframe tbody tr th:only-of-type {\n",
       "        vertical-align: middle;\n",
       "    }\n",
       "\n",
       "    .dataframe tbody tr th {\n",
       "        vertical-align: top;\n",
       "    }\n",
       "\n",
       "    .dataframe thead th {\n",
       "        text-align: right;\n",
       "    }\n",
       "</style>\n",
       "<table border=\"1\" class=\"dataframe\">\n",
       "  <thead>\n",
       "    <tr style=\"text-align: right;\">\n",
       "      <th></th>\n",
       "      <th>client_id</th>\n",
       "      <th>date</th>\n",
       "      <th>days_between_purchases</th>\n",
       "    </tr>\n",
       "  </thead>\n",
       "  <tbody>\n",
       "    <tr>\n",
       "      <th>3695</th>\n",
       "      <td>1515915625468060902</td>\n",
       "      <td>2022-05-27</td>\n",
       "      <td>NaN</td>\n",
       "    </tr>\n",
       "    <tr>\n",
       "      <th>3696</th>\n",
       "      <td>1515915625468060902</td>\n",
       "      <td>2022-05-27</td>\n",
       "      <td>0.00</td>\n",
       "    </tr>\n",
       "    <tr>\n",
       "      <th>3697</th>\n",
       "      <td>1515915625468060902</td>\n",
       "      <td>2022-05-27</td>\n",
       "      <td>0.00</td>\n",
       "    </tr>\n",
       "    <tr>\n",
       "      <th>3700</th>\n",
       "      <td>1515915625468060902</td>\n",
       "      <td>2022-05-27</td>\n",
       "      <td>0.00</td>\n",
       "    </tr>\n",
       "    <tr>\n",
       "      <th>3701</th>\n",
       "      <td>1515915625468060902</td>\n",
       "      <td>2022-05-27</td>\n",
       "      <td>0.00</td>\n",
       "    </tr>\n",
       "  </tbody>\n",
       "</table>\n",
       "</div>"
      ],
      "text/plain": [
       "                client_id       date  days_between_purchases\n",
       "3695  1515915625468060902 2022-05-27                     NaN\n",
       "3696  1515915625468060902 2022-05-27                    0.00\n",
       "3697  1515915625468060902 2022-05-27                    0.00\n",
       "3700  1515915625468060902 2022-05-27                    0.00\n",
       "3701  1515915625468060902 2022-05-27                    0.00"
      ]
     },
     "execution_count": 59,
     "metadata": {},
     "output_type": "execute_result"
    }
   ],
   "source": [
    "apparel_purchases_sorted['days_between_purchases'] = apparel_purchases_sorted.groupby('client_id')['date'].diff().dt.days\n",
    "apparel_purchases_sorted.head(5)"
   ]
  },
  {
   "cell_type": "code",
   "execution_count": 60,
   "id": "09d2eb51-a1df-4511-a120-f6d72e290726",
   "metadata": {},
   "outputs": [
    {
     "data": {
      "text/plain": [
       "client_id                     0\n",
       "avg_days_between_purchases    0\n",
       "dtype: int64"
      ]
     },
     "execution_count": 60,
     "metadata": {},
     "output_type": "execute_result"
    }
   ],
   "source": [
    "avg_days_between_purchases = apparel_purchases_sorted.groupby('client_id')['days_between_purchases'] \\\n",
    "                                                 .mean().reset_index(name='avg_days_between_purchases')\n",
    "\n",
    "avg_days_between_purchases['avg_days_between_purchases'] = avg_days_between_purchases['avg_days_between_purchases'] \\\n",
    "                                                                                              .fillna(0)\n",
    "avg_days_between_purchases.isna().sum()"
   ]
  },
  {
   "cell_type": "code",
   "execution_count": 61,
   "id": "b3d71093-db7d-4881-bda0-0035f2769acc",
   "metadata": {},
   "outputs": [
    {
     "data": {
      "text/html": [
       "<div>\n",
       "<style scoped>\n",
       "    .dataframe tbody tr th:only-of-type {\n",
       "        vertical-align: middle;\n",
       "    }\n",
       "\n",
       "    .dataframe tbody tr th {\n",
       "        vertical-align: top;\n",
       "    }\n",
       "\n",
       "    .dataframe thead th {\n",
       "        text-align: right;\n",
       "    }\n",
       "</style>\n",
       "<table border=\"1\" class=\"dataframe\">\n",
       "  <thead>\n",
       "    <tr style=\"text-align: right;\">\n",
       "      <th></th>\n",
       "      <th>client_id</th>\n",
       "      <th>target</th>\n",
       "      <th>messages_sent</th>\n",
       "      <th>quantity_total</th>\n",
       "      <th>total_spent</th>\n",
       "      <th>avg_days_between_purchases</th>\n",
       "    </tr>\n",
       "  </thead>\n",
       "  <tbody>\n",
       "    <tr>\n",
       "      <th>0</th>\n",
       "      <td>1515915625468060902</td>\n",
       "      <td>0</td>\n",
       "      <td>177.00</td>\n",
       "      <td>5</td>\n",
       "      <td>4,795.00</td>\n",
       "      <td>0.00</td>\n",
       "    </tr>\n",
       "    <tr>\n",
       "      <th>1</th>\n",
       "      <td>1515915625468061003</td>\n",
       "      <td>1</td>\n",
       "      <td>165.00</td>\n",
       "      <td>6</td>\n",
       "      <td>14,135.00</td>\n",
       "      <td>0.00</td>\n",
       "    </tr>\n",
       "    <tr>\n",
       "      <th>2</th>\n",
       "      <td>1515915625468061099</td>\n",
       "      <td>0</td>\n",
       "      <td>276.00</td>\n",
       "      <td>1</td>\n",
       "      <td>299.00</td>\n",
       "      <td>0.00</td>\n",
       "    </tr>\n",
       "    <tr>\n",
       "      <th>3</th>\n",
       "      <td>1515915625468061100</td>\n",
       "      <td>0</td>\n",
       "      <td>428.00</td>\n",
       "      <td>1</td>\n",
       "      <td>1,049.00</td>\n",
       "      <td>0.00</td>\n",
       "    </tr>\n",
       "    <tr>\n",
       "      <th>4</th>\n",
       "      <td>1515915625468061170</td>\n",
       "      <td>0</td>\n",
       "      <td>293.00</td>\n",
       "      <td>8</td>\n",
       "      <td>14,102.00</td>\n",
       "      <td>11.86</td>\n",
       "    </tr>\n",
       "  </tbody>\n",
       "</table>\n",
       "</div>"
      ],
      "text/plain": [
       "             client_id  target  messages_sent  quantity_total  total_spent  \\\n",
       "0  1515915625468060902       0         177.00               5     4,795.00   \n",
       "1  1515915625468061003       1         165.00               6    14,135.00   \n",
       "2  1515915625468061099       0         276.00               1       299.00   \n",
       "3  1515915625468061100       0         428.00               1     1,049.00   \n",
       "4  1515915625468061170       0         293.00               8    14,102.00   \n",
       "\n",
       "   avg_days_between_purchases  \n",
       "0                        0.00  \n",
       "1                        0.00  \n",
       "2                        0.00  \n",
       "3                        0.00  \n",
       "4                       11.86  "
      ]
     },
     "execution_count": 61,
     "metadata": {},
     "output_type": "execute_result"
    }
   ],
   "source": [
    "df = df.merge(avg_days_between_purchases, on='client_id', how='left')\n",
    "\n",
    "df.head(5)"
   ]
  },
  {
   "cell_type": "code",
   "execution_count": 62,
   "id": "0600accf-abbf-4c3f-a08b-d247d05be66a",
   "metadata": {},
   "outputs": [
    {
     "data": {
      "text/plain": [
       "client_id                     0\n",
       "target                        0\n",
       "messages_sent                 0\n",
       "quantity_total                0\n",
       "total_spent                   0\n",
       "avg_days_between_purchases    0\n",
       "dtype: int64"
      ]
     },
     "execution_count": 62,
     "metadata": {},
     "output_type": "execute_result"
    }
   ],
   "source": [
    "df.isna().sum()"
   ]
  },
  {
   "cell_type": "code",
   "execution_count": 63,
   "id": "65a261b0-f97b-4d89-9699-84dfb9975d71",
   "metadata": {},
   "outputs": [
    {
     "data": {
      "text/html": [
       "<div>\n",
       "<style scoped>\n",
       "    .dataframe tbody tr th:only-of-type {\n",
       "        vertical-align: middle;\n",
       "    }\n",
       "\n",
       "    .dataframe tbody tr th {\n",
       "        vertical-align: top;\n",
       "    }\n",
       "\n",
       "    .dataframe thead th {\n",
       "        text-align: right;\n",
       "    }\n",
       "</style>\n",
       "<table border=\"1\" class=\"dataframe\">\n",
       "  <thead>\n",
       "    <tr style=\"text-align: right;\">\n",
       "      <th></th>\n",
       "      <th>client_id</th>\n",
       "      <th>target</th>\n",
       "      <th>messages_sent</th>\n",
       "      <th>quantity_total</th>\n",
       "      <th>total_spent</th>\n",
       "      <th>avg_days_between_purchases</th>\n",
       "      <th>last_purchase_date</th>\n",
       "    </tr>\n",
       "  </thead>\n",
       "  <tbody>\n",
       "    <tr>\n",
       "      <th>0</th>\n",
       "      <td>1515915625468060902</td>\n",
       "      <td>0</td>\n",
       "      <td>177.00</td>\n",
       "      <td>5</td>\n",
       "      <td>4,795.00</td>\n",
       "      <td>0.00</td>\n",
       "      <td>2022-05-27</td>\n",
       "    </tr>\n",
       "    <tr>\n",
       "      <th>1</th>\n",
       "      <td>1515915625468061003</td>\n",
       "      <td>1</td>\n",
       "      <td>165.00</td>\n",
       "      <td>6</td>\n",
       "      <td>14,135.00</td>\n",
       "      <td>0.00</td>\n",
       "      <td>2023-01-04</td>\n",
       "    </tr>\n",
       "    <tr>\n",
       "      <th>2</th>\n",
       "      <td>1515915625468061099</td>\n",
       "      <td>0</td>\n",
       "      <td>276.00</td>\n",
       "      <td>1</td>\n",
       "      <td>299.00</td>\n",
       "      <td>0.00</td>\n",
       "      <td>2022-05-17</td>\n",
       "    </tr>\n",
       "    <tr>\n",
       "      <th>3</th>\n",
       "      <td>1515915625468061100</td>\n",
       "      <td>0</td>\n",
       "      <td>428.00</td>\n",
       "      <td>1</td>\n",
       "      <td>1,049.00</td>\n",
       "      <td>0.00</td>\n",
       "      <td>2024-02-10</td>\n",
       "    </tr>\n",
       "    <tr>\n",
       "      <th>4</th>\n",
       "      <td>1515915625468061170</td>\n",
       "      <td>0</td>\n",
       "      <td>293.00</td>\n",
       "      <td>8</td>\n",
       "      <td>14,102.00</td>\n",
       "      <td>11.86</td>\n",
       "      <td>2023-06-17</td>\n",
       "    </tr>\n",
       "  </tbody>\n",
       "</table>\n",
       "</div>"
      ],
      "text/plain": [
       "             client_id  target  messages_sent  quantity_total  total_spent  \\\n",
       "0  1515915625468060902       0         177.00               5     4,795.00   \n",
       "1  1515915625468061003       1         165.00               6    14,135.00   \n",
       "2  1515915625468061099       0         276.00               1       299.00   \n",
       "3  1515915625468061100       0         428.00               1     1,049.00   \n",
       "4  1515915625468061170       0         293.00               8    14,102.00   \n",
       "\n",
       "   avg_days_between_purchases last_purchase_date  \n",
       "0                        0.00         2022-05-27  \n",
       "1                        0.00         2023-01-04  \n",
       "2                        0.00         2022-05-17  \n",
       "3                        0.00         2024-02-10  \n",
       "4                       11.86         2023-06-17  "
      ]
     },
     "execution_count": 63,
     "metadata": {},
     "output_type": "execute_result"
    }
   ],
   "source": [
    "apparel_last_purchase_date = apparel_purchases.groupby('client_id')['date'].max().rename('last_purchase_date')\n",
    "df = df.merge(apparel_last_purchase_date, on='client_id', how='left')\n",
    "\n",
    "df.head(5)"
   ]
  },
  {
   "cell_type": "code",
   "execution_count": 64,
   "id": "da454924-9366-4842-ba70-7dd297614c26",
   "metadata": {},
   "outputs": [
    {
     "data": {
      "text/html": [
       "<div>\n",
       "<style scoped>\n",
       "    .dataframe tbody tr th:only-of-type {\n",
       "        vertical-align: middle;\n",
       "    }\n",
       "\n",
       "    .dataframe tbody tr th {\n",
       "        vertical-align: top;\n",
       "    }\n",
       "\n",
       "    .dataframe thead th {\n",
       "        text-align: right;\n",
       "    }\n",
       "</style>\n",
       "<table border=\"1\" class=\"dataframe\">\n",
       "  <thead>\n",
       "    <tr style=\"text-align: right;\">\n",
       "      <th></th>\n",
       "      <th>client_id</th>\n",
       "      <th>target</th>\n",
       "      <th>messages_sent</th>\n",
       "      <th>quantity_total</th>\n",
       "      <th>total_spent</th>\n",
       "      <th>avg_days_between_purchases</th>\n",
       "      <th>last_purchase_date</th>\n",
       "      <th>days_since_last_purchase</th>\n",
       "    </tr>\n",
       "  </thead>\n",
       "  <tbody>\n",
       "    <tr>\n",
       "      <th>0</th>\n",
       "      <td>1515915625468060902</td>\n",
       "      <td>0</td>\n",
       "      <td>177.00</td>\n",
       "      <td>5</td>\n",
       "      <td>4,795.00</td>\n",
       "      <td>0.00</td>\n",
       "      <td>2022-05-27</td>\n",
       "      <td>630</td>\n",
       "    </tr>\n",
       "    <tr>\n",
       "      <th>1</th>\n",
       "      <td>1515915625468061003</td>\n",
       "      <td>1</td>\n",
       "      <td>165.00</td>\n",
       "      <td>6</td>\n",
       "      <td>14,135.00</td>\n",
       "      <td>0.00</td>\n",
       "      <td>2023-01-04</td>\n",
       "      <td>408</td>\n",
       "    </tr>\n",
       "    <tr>\n",
       "      <th>2</th>\n",
       "      <td>1515915625468061099</td>\n",
       "      <td>0</td>\n",
       "      <td>276.00</td>\n",
       "      <td>1</td>\n",
       "      <td>299.00</td>\n",
       "      <td>0.00</td>\n",
       "      <td>2022-05-17</td>\n",
       "      <td>640</td>\n",
       "    </tr>\n",
       "    <tr>\n",
       "      <th>3</th>\n",
       "      <td>1515915625468061100</td>\n",
       "      <td>0</td>\n",
       "      <td>428.00</td>\n",
       "      <td>1</td>\n",
       "      <td>1,049.00</td>\n",
       "      <td>0.00</td>\n",
       "      <td>2024-02-10</td>\n",
       "      <td>6</td>\n",
       "    </tr>\n",
       "    <tr>\n",
       "      <th>4</th>\n",
       "      <td>1515915625468061170</td>\n",
       "      <td>0</td>\n",
       "      <td>293.00</td>\n",
       "      <td>8</td>\n",
       "      <td>14,102.00</td>\n",
       "      <td>11.86</td>\n",
       "      <td>2023-06-17</td>\n",
       "      <td>244</td>\n",
       "    </tr>\n",
       "  </tbody>\n",
       "</table>\n",
       "</div>"
      ],
      "text/plain": [
       "             client_id  target  messages_sent  quantity_total  total_spent  \\\n",
       "0  1515915625468060902       0         177.00               5     4,795.00   \n",
       "1  1515915625468061003       1         165.00               6    14,135.00   \n",
       "2  1515915625468061099       0         276.00               1       299.00   \n",
       "3  1515915625468061100       0         428.00               1     1,049.00   \n",
       "4  1515915625468061170       0         293.00               8    14,102.00   \n",
       "\n",
       "   avg_days_between_purchases last_purchase_date  days_since_last_purchase  \n",
       "0                        0.00         2022-05-27                       630  \n",
       "1                        0.00         2023-01-04                       408  \n",
       "2                        0.00         2022-05-17                       640  \n",
       "3                        0.00         2024-02-10                         6  \n",
       "4                       11.86         2023-06-17                       244  "
      ]
     },
     "execution_count": 64,
     "metadata": {},
     "output_type": "execute_result"
    }
   ],
   "source": [
    "df['days_since_last_purchase'] = (apparel_purchases['date'].max() - df['last_purchase_date']).dt.days\n",
    "\n",
    "df.head(5)"
   ]
  },
  {
   "cell_type": "code",
   "execution_count": 65,
   "id": "570eacb8-7be8-4587-aebf-9f1ad0d9ca6a",
   "metadata": {},
   "outputs": [],
   "source": [
    "df = df.drop('last_purchase_date', axis=1)"
   ]
  },
  {
   "cell_type": "code",
   "execution_count": 66,
   "id": "7261bba3-9b3c-4db9-baee-8e78a69ce7dc",
   "metadata": {},
   "outputs": [
    {
     "data": {
      "text/plain": [
       "client_id                     0\n",
       "target                        0\n",
       "messages_sent                 0\n",
       "quantity_total                0\n",
       "total_spent                   0\n",
       "avg_days_between_purchases    0\n",
       "days_since_last_purchase      0\n",
       "dtype: int64"
      ]
     },
     "execution_count": 66,
     "metadata": {},
     "output_type": "execute_result"
    }
   ],
   "source": [
    "df.isna().sum()"
   ]
  },
  {
   "cell_type": "code",
   "execution_count": 67,
   "id": "9329e70f-1700-47ee-a3db-6246427bb40c",
   "metadata": {},
   "outputs": [],
   "source": [
    "df['category_event'] = \\\n",
    "apparel_messages['event']\\\n",
    ".apply(lambda x: 'good' if x in ['open',\n",
    "                                 'click',\n",
    "                                 'purchase',\n",
    "                                 'subscribe'] else ('bad' if x in ['unsubscribe',\n",
    "                                                                   'complain'] else 'neutral'))\n",
    "\n",
    "     "
   ]
  },
  {
   "cell_type": "code",
   "execution_count": 68,
   "id": "8b1e228d-fa5f-4e3e-83c0-6c11b224a3ef",
   "metadata": {},
   "outputs": [
    {
     "data": {
      "text/html": [
       "<div>\n",
       "<style scoped>\n",
       "    .dataframe tbody tr th:only-of-type {\n",
       "        vertical-align: middle;\n",
       "    }\n",
       "\n",
       "    .dataframe tbody tr th {\n",
       "        vertical-align: top;\n",
       "    }\n",
       "\n",
       "    .dataframe thead th {\n",
       "        text-align: right;\n",
       "    }\n",
       "</style>\n",
       "<table border=\"1\" class=\"dataframe\">\n",
       "  <thead>\n",
       "    <tr style=\"text-align: right;\">\n",
       "      <th></th>\n",
       "      <th>client_id</th>\n",
       "      <th>target</th>\n",
       "      <th>messages_sent</th>\n",
       "      <th>quantity_total</th>\n",
       "      <th>total_spent</th>\n",
       "      <th>avg_days_between_purchases</th>\n",
       "      <th>days_since_last_purchase</th>\n",
       "      <th>category_event</th>\n",
       "    </tr>\n",
       "  </thead>\n",
       "  <tbody>\n",
       "    <tr>\n",
       "      <th>0</th>\n",
       "      <td>1515915625468060902</td>\n",
       "      <td>0</td>\n",
       "      <td>177.00</td>\n",
       "      <td>5</td>\n",
       "      <td>4,795.00</td>\n",
       "      <td>0.00</td>\n",
       "      <td>630</td>\n",
       "      <td>good</td>\n",
       "    </tr>\n",
       "    <tr>\n",
       "      <th>1</th>\n",
       "      <td>1515915625468061003</td>\n",
       "      <td>1</td>\n",
       "      <td>165.00</td>\n",
       "      <td>6</td>\n",
       "      <td>14,135.00</td>\n",
       "      <td>0.00</td>\n",
       "      <td>408</td>\n",
       "      <td>good</td>\n",
       "    </tr>\n",
       "    <tr>\n",
       "      <th>2</th>\n",
       "      <td>1515915625468061099</td>\n",
       "      <td>0</td>\n",
       "      <td>276.00</td>\n",
       "      <td>1</td>\n",
       "      <td>299.00</td>\n",
       "      <td>0.00</td>\n",
       "      <td>640</td>\n",
       "      <td>good</td>\n",
       "    </tr>\n",
       "    <tr>\n",
       "      <th>3</th>\n",
       "      <td>1515915625468061100</td>\n",
       "      <td>0</td>\n",
       "      <td>428.00</td>\n",
       "      <td>1</td>\n",
       "      <td>1,049.00</td>\n",
       "      <td>0.00</td>\n",
       "      <td>6</td>\n",
       "      <td>good</td>\n",
       "    </tr>\n",
       "    <tr>\n",
       "      <th>4</th>\n",
       "      <td>1515915625468061170</td>\n",
       "      <td>0</td>\n",
       "      <td>293.00</td>\n",
       "      <td>8</td>\n",
       "      <td>14,102.00</td>\n",
       "      <td>11.86</td>\n",
       "      <td>244</td>\n",
       "      <td>good</td>\n",
       "    </tr>\n",
       "    <tr>\n",
       "      <th>...</th>\n",
       "      <td>...</td>\n",
       "      <td>...</td>\n",
       "      <td>...</td>\n",
       "      <td>...</td>\n",
       "      <td>...</td>\n",
       "      <td>...</td>\n",
       "      <td>...</td>\n",
       "      <td>...</td>\n",
       "    </tr>\n",
       "    <tr>\n",
       "      <th>49844</th>\n",
       "      <td>1515915626010261344</td>\n",
       "      <td>0</td>\n",
       "      <td>3.00</td>\n",
       "      <td>1</td>\n",
       "      <td>1,499.00</td>\n",
       "      <td>0.00</td>\n",
       "      <td>0</td>\n",
       "      <td>neutral</td>\n",
       "    </tr>\n",
       "    <tr>\n",
       "      <th>49845</th>\n",
       "      <td>1515915626010266132</td>\n",
       "      <td>0</td>\n",
       "      <td>233.00</td>\n",
       "      <td>1</td>\n",
       "      <td>909.00</td>\n",
       "      <td>0.00</td>\n",
       "      <td>2</td>\n",
       "      <td>good</td>\n",
       "    </tr>\n",
       "    <tr>\n",
       "      <th>49846</th>\n",
       "      <td>1515915626010439406</td>\n",
       "      <td>0</td>\n",
       "      <td>233.00</td>\n",
       "      <td>1</td>\n",
       "      <td>99.00</td>\n",
       "      <td>0.00</td>\n",
       "      <td>0</td>\n",
       "      <td>neutral</td>\n",
       "    </tr>\n",
       "    <tr>\n",
       "      <th>49847</th>\n",
       "      <td>1515915626010443527</td>\n",
       "      <td>0</td>\n",
       "      <td>233.00</td>\n",
       "      <td>1</td>\n",
       "      <td>1,999.00</td>\n",
       "      <td>0.00</td>\n",
       "      <td>0</td>\n",
       "      <td>neutral</td>\n",
       "    </tr>\n",
       "    <tr>\n",
       "      <th>49848</th>\n",
       "      <td>1515915626010443624</td>\n",
       "      <td>0</td>\n",
       "      <td>233.00</td>\n",
       "      <td>1</td>\n",
       "      <td>999.00</td>\n",
       "      <td>0.00</td>\n",
       "      <td>0</td>\n",
       "      <td>good</td>\n",
       "    </tr>\n",
       "  </tbody>\n",
       "</table>\n",
       "<p>49849 rows × 8 columns</p>\n",
       "</div>"
      ],
      "text/plain": [
       "                 client_id  target  messages_sent  quantity_total  \\\n",
       "0      1515915625468060902       0         177.00               5   \n",
       "1      1515915625468061003       1         165.00               6   \n",
       "2      1515915625468061099       0         276.00               1   \n",
       "3      1515915625468061100       0         428.00               1   \n",
       "4      1515915625468061170       0         293.00               8   \n",
       "...                    ...     ...            ...             ...   \n",
       "49844  1515915626010261344       0           3.00               1   \n",
       "49845  1515915626010266132       0         233.00               1   \n",
       "49846  1515915626010439406       0         233.00               1   \n",
       "49847  1515915626010443527       0         233.00               1   \n",
       "49848  1515915626010443624       0         233.00               1   \n",
       "\n",
       "       total_spent  avg_days_between_purchases  days_since_last_purchase  \\\n",
       "0         4,795.00                        0.00                       630   \n",
       "1        14,135.00                        0.00                       408   \n",
       "2           299.00                        0.00                       640   \n",
       "3         1,049.00                        0.00                         6   \n",
       "4        14,102.00                       11.86                       244   \n",
       "...            ...                         ...                       ...   \n",
       "49844     1,499.00                        0.00                         0   \n",
       "49845       909.00                        0.00                         2   \n",
       "49846        99.00                        0.00                         0   \n",
       "49847     1,999.00                        0.00                         0   \n",
       "49848       999.00                        0.00                         0   \n",
       "\n",
       "      category_event  \n",
       "0               good  \n",
       "1               good  \n",
       "2               good  \n",
       "3               good  \n",
       "4               good  \n",
       "...              ...  \n",
       "49844        neutral  \n",
       "49845           good  \n",
       "49846        neutral  \n",
       "49847        neutral  \n",
       "49848           good  \n",
       "\n",
       "[49849 rows x 8 columns]"
      ]
     },
     "execution_count": 68,
     "metadata": {},
     "output_type": "execute_result"
    }
   ],
   "source": [
    "df"
   ]
  },
  {
   "cell_type": "markdown",
   "id": "2759ffc7-e5ec-491a-b370-b8a66bff5e88",
   "metadata": {},
   "source": [
    "Закодирую category_event с помощью OrdinalEncoder"
   ]
  },
  {
   "cell_type": "code",
   "execution_count": 73,
   "id": "26cfecac-1955-47c7-a23f-796555f6d733",
   "metadata": {},
   "outputs": [],
   "source": [
    "encoder = OrdinalEncoder() \n",
    "encoded_data = encoder.fit_transform(df[['category_event']])\n",
    "encoded_df = pd.DataFrame(encoded_data, columns=['category_event_encoded'])\n",
    "df = pd.concat([df, encoded_df], axis=1)"
   ]
  },
  {
   "cell_type": "code",
   "execution_count": 75,
   "id": "24ea3655-5b93-4760-9abb-87cef0e3805c",
   "metadata": {},
   "outputs": [
    {
     "data": {
      "text/html": [
       "<div>\n",
       "<style scoped>\n",
       "    .dataframe tbody tr th:only-of-type {\n",
       "        vertical-align: middle;\n",
       "    }\n",
       "\n",
       "    .dataframe tbody tr th {\n",
       "        vertical-align: top;\n",
       "    }\n",
       "\n",
       "    .dataframe thead th {\n",
       "        text-align: right;\n",
       "    }\n",
       "</style>\n",
       "<table border=\"1\" class=\"dataframe\">\n",
       "  <thead>\n",
       "    <tr style=\"text-align: right;\">\n",
       "      <th></th>\n",
       "      <th>client_id</th>\n",
       "      <th>target</th>\n",
       "      <th>messages_sent</th>\n",
       "      <th>quantity_total</th>\n",
       "      <th>total_spent</th>\n",
       "      <th>avg_days_between_purchases</th>\n",
       "      <th>days_since_last_purchase</th>\n",
       "      <th>category_event</th>\n",
       "      <th>category_event_encoded</th>\n",
       "    </tr>\n",
       "  </thead>\n",
       "  <tbody>\n",
       "    <tr>\n",
       "      <th>0</th>\n",
       "      <td>1515915625468060902</td>\n",
       "      <td>0</td>\n",
       "      <td>177.00</td>\n",
       "      <td>5</td>\n",
       "      <td>4,795.00</td>\n",
       "      <td>0.00</td>\n",
       "      <td>630</td>\n",
       "      <td>good</td>\n",
       "      <td>1.00</td>\n",
       "    </tr>\n",
       "    <tr>\n",
       "      <th>1</th>\n",
       "      <td>1515915625468061003</td>\n",
       "      <td>1</td>\n",
       "      <td>165.00</td>\n",
       "      <td>6</td>\n",
       "      <td>14,135.00</td>\n",
       "      <td>0.00</td>\n",
       "      <td>408</td>\n",
       "      <td>good</td>\n",
       "      <td>1.00</td>\n",
       "    </tr>\n",
       "    <tr>\n",
       "      <th>2</th>\n",
       "      <td>1515915625468061099</td>\n",
       "      <td>0</td>\n",
       "      <td>276.00</td>\n",
       "      <td>1</td>\n",
       "      <td>299.00</td>\n",
       "      <td>0.00</td>\n",
       "      <td>640</td>\n",
       "      <td>good</td>\n",
       "      <td>1.00</td>\n",
       "    </tr>\n",
       "    <tr>\n",
       "      <th>3</th>\n",
       "      <td>1515915625468061100</td>\n",
       "      <td>0</td>\n",
       "      <td>428.00</td>\n",
       "      <td>1</td>\n",
       "      <td>1,049.00</td>\n",
       "      <td>0.00</td>\n",
       "      <td>6</td>\n",
       "      <td>good</td>\n",
       "      <td>1.00</td>\n",
       "    </tr>\n",
       "    <tr>\n",
       "      <th>4</th>\n",
       "      <td>1515915625468061170</td>\n",
       "      <td>0</td>\n",
       "      <td>293.00</td>\n",
       "      <td>8</td>\n",
       "      <td>14,102.00</td>\n",
       "      <td>11.86</td>\n",
       "      <td>244</td>\n",
       "      <td>good</td>\n",
       "      <td>1.00</td>\n",
       "    </tr>\n",
       "  </tbody>\n",
       "</table>\n",
       "</div>"
      ],
      "text/plain": [
       "             client_id  target  messages_sent  quantity_total  total_spent  \\\n",
       "0  1515915625468060902       0         177.00               5     4,795.00   \n",
       "1  1515915625468061003       1         165.00               6    14,135.00   \n",
       "2  1515915625468061099       0         276.00               1       299.00   \n",
       "3  1515915625468061100       0         428.00               1     1,049.00   \n",
       "4  1515915625468061170       0         293.00               8    14,102.00   \n",
       "\n",
       "   avg_days_between_purchases  days_since_last_purchase category_event  \\\n",
       "0                        0.00                       630           good   \n",
       "1                        0.00                       408           good   \n",
       "2                        0.00                       640           good   \n",
       "3                        0.00                         6           good   \n",
       "4                       11.86                       244           good   \n",
       "\n",
       "   category_event_encoded  \n",
       "0                    1.00  \n",
       "1                    1.00  \n",
       "2                    1.00  \n",
       "3                    1.00  \n",
       "4                    1.00  "
      ]
     },
     "execution_count": 75,
     "metadata": {},
     "output_type": "execute_result"
    }
   ],
   "source": [
    "df.head(5)"
   ]
  },
  {
   "cell_type": "code",
   "execution_count": 78,
   "id": "63430ed6-4935-4010-90fe-037df0ae0063",
   "metadata": {},
   "outputs": [],
   "source": [
    "del df['category_event']"
   ]
  },
  {
   "cell_type": "code",
   "execution_count": 79,
   "id": "3a971eea-8419-4826-be38-cfe8eb319cfb",
   "metadata": {},
   "outputs": [
    {
     "data": {
      "text/html": [
       "<div>\n",
       "<style scoped>\n",
       "    .dataframe tbody tr th:only-of-type {\n",
       "        vertical-align: middle;\n",
       "    }\n",
       "\n",
       "    .dataframe tbody tr th {\n",
       "        vertical-align: top;\n",
       "    }\n",
       "\n",
       "    .dataframe thead th {\n",
       "        text-align: right;\n",
       "    }\n",
       "</style>\n",
       "<table border=\"1\" class=\"dataframe\">\n",
       "  <thead>\n",
       "    <tr style=\"text-align: right;\">\n",
       "      <th></th>\n",
       "      <th>client_id</th>\n",
       "      <th>target</th>\n",
       "      <th>messages_sent</th>\n",
       "      <th>quantity_total</th>\n",
       "      <th>total_spent</th>\n",
       "      <th>avg_days_between_purchases</th>\n",
       "      <th>days_since_last_purchase</th>\n",
       "      <th>category_event_encoded</th>\n",
       "    </tr>\n",
       "  </thead>\n",
       "  <tbody>\n",
       "    <tr>\n",
       "      <th>0</th>\n",
       "      <td>1515915625468060902</td>\n",
       "      <td>0</td>\n",
       "      <td>177.00</td>\n",
       "      <td>5</td>\n",
       "      <td>4,795.00</td>\n",
       "      <td>0.00</td>\n",
       "      <td>630</td>\n",
       "      <td>1.00</td>\n",
       "    </tr>\n",
       "    <tr>\n",
       "      <th>1</th>\n",
       "      <td>1515915625468061003</td>\n",
       "      <td>1</td>\n",
       "      <td>165.00</td>\n",
       "      <td>6</td>\n",
       "      <td>14,135.00</td>\n",
       "      <td>0.00</td>\n",
       "      <td>408</td>\n",
       "      <td>1.00</td>\n",
       "    </tr>\n",
       "    <tr>\n",
       "      <th>2</th>\n",
       "      <td>1515915625468061099</td>\n",
       "      <td>0</td>\n",
       "      <td>276.00</td>\n",
       "      <td>1</td>\n",
       "      <td>299.00</td>\n",
       "      <td>0.00</td>\n",
       "      <td>640</td>\n",
       "      <td>1.00</td>\n",
       "    </tr>\n",
       "  </tbody>\n",
       "</table>\n",
       "</div>"
      ],
      "text/plain": [
       "             client_id  target  messages_sent  quantity_total  total_spent  \\\n",
       "0  1515915625468060902       0         177.00               5     4,795.00   \n",
       "1  1515915625468061003       1         165.00               6    14,135.00   \n",
       "2  1515915625468061099       0         276.00               1       299.00   \n",
       "\n",
       "   avg_days_between_purchases  days_since_last_purchase  \\\n",
       "0                        0.00                       630   \n",
       "1                        0.00                       408   \n",
       "2                        0.00                       640   \n",
       "\n",
       "   category_event_encoded  \n",
       "0                    1.00  \n",
       "1                    1.00  \n",
       "2                    1.00  "
      ]
     },
     "execution_count": 79,
     "metadata": {},
     "output_type": "execute_result"
    }
   ],
   "source": [
    "df.head(3)"
   ]
  },
  {
   "cell_type": "code",
   "execution_count": 80,
   "id": "d30e1f55-5da1-4ed1-8a90-df360e7fa089",
   "metadata": {},
   "outputs": [
    {
     "data": {
      "text/plain": [
       "client_id                     0\n",
       "target                        0\n",
       "messages_sent                 0\n",
       "quantity_total                0\n",
       "total_spent                   0\n",
       "avg_days_between_purchases    0\n",
       "days_since_last_purchase      0\n",
       "category_event_encoded        0\n",
       "dtype: int64"
      ]
     },
     "execution_count": 80,
     "metadata": {},
     "output_type": "execute_result"
    }
   ],
   "source": [
    "df.isna().sum()"
   ]
  },
  {
   "cell_type": "markdown",
   "id": "4f8ea413-8bb6-46b4-8556-27676cc08e36",
   "metadata": {},
   "source": [
    "# Матрица корреляции"
   ]
  },
  {
   "cell_type": "code",
   "execution_count": 81,
   "id": "3be03b5d-9f24-4b3a-a92d-79f14e201d01",
   "metadata": {},
   "outputs": [
    {
     "name": "stdout",
     "output_type": "stream",
     "text": [
      "<class 'pandas.core.frame.DataFrame'>\n",
      "RangeIndex: 49849 entries, 0 to 49848\n",
      "Data columns (total 8 columns):\n",
      " #   Column                      Non-Null Count  Dtype  \n",
      "---  ------                      --------------  -----  \n",
      " 0   client_id                   49849 non-null  int64  \n",
      " 1   target                      49849 non-null  int64  \n",
      " 2   messages_sent               49849 non-null  float64\n",
      " 3   quantity_total              49849 non-null  int64  \n",
      " 4   total_spent                 49849 non-null  float64\n",
      " 5   avg_days_between_purchases  49849 non-null  float64\n",
      " 6   days_since_last_purchase    49849 non-null  int64  \n",
      " 7   category_event_encoded      49849 non-null  float64\n",
      "dtypes: float64(4), int64(4)\n",
      "memory usage: 3.0 MB\n"
     ]
    }
   ],
   "source": [
    "df.info()"
   ]
  },
  {
   "cell_type": "code",
   "execution_count": 82,
   "id": "72933cc7-d7a4-4ea2-bc9b-2aadad53101e",
   "metadata": {},
   "outputs": [
    {
     "name": "stdout",
     "output_type": "stream",
     "text": [
      "interval columns not set, guessing: ['target', 'messages_sent', 'quantity_total', 'total_spent', 'avg_days_between_purchases', 'days_since_last_purchase', 'category_event_encoded']\n"
     ]
    },
    {
     "data": {
      "text/plain": [
       "<Axes: >"
      ]
     },
     "execution_count": 82,
     "metadata": {},
     "output_type": "execute_result"
    },
    {
     "data": {
      "image/png": "[encoded data removed]",
      "text/plain": [
       "<Figure size 640x480 with 2 Axes>"
      ]
     },
     "metadata": {},
     "output_type": "display_data"
    }
   ],
   "source": [
    "fig, ax = plt.subplots()\n",
    "sns.heatmap(df.drop(['client_id'], axis=1).phik_matrix(),\n",
    "            annot=True,\n",
    "            cmap='coolwarm',\n",
    "            ax=ax)"
   ]
  },
  {
   "cell_type": "markdown",
   "id": "ef964f49-13ef-4cb1-b504-db8434ea9afa",
   "metadata": {},
   "source": [
    "Корреляция всех признаков близка к 0.1"
   ]
  },
  {
   "cell_type": "markdown",
   "id": "f643f1d6-85dd-44bc-aeab-ce1671e2b660",
   "metadata": {},
   "source": [
    "# Подготовка данных"
   ]
  },
  {
   "cell_type": "code",
   "execution_count": 84,
   "id": "dbb28119-b126-4ebc-993b-78c08381c8bc",
   "metadata": {},
   "outputs": [],
   "source": [
    "X_train, X_test, y_train, y_test = train_test_split(\n",
    "    df.drop(['client_id','target'], axis=1),\n",
    "    df['target'],\n",
    "    test_size = 0.25,\n",
    "    random_state = RANDOM_STATE,\n",
    "    stratify=df['target']\n",
    ")"
   ]
  },
  {
   "cell_type": "code",
   "execution_count": 89,
   "id": "ee6b29c3-87f4-483f-aa41-a01a47682400",
   "metadata": {},
   "outputs": [],
   "source": [
    "num_columns = ['messages_sent', \n",
    "       'quantity_total',\n",
    "       'total_spent',\n",
    "       'avg_days_between_purchases',\n",
    "       'days_since_last_purchase']\n",
    "ord_columns = ['category_event_encoded']"
   ]
  },
  {
   "cell_type": "code",
   "execution_count": 90,
   "id": "86f2de46-cf9a-47ca-bc28-818e2f9230fd",
   "metadata": {},
   "outputs": [],
   "source": [
    "# добавляем ord кодирование\n",
    "ord_pipe = Pipeline(\n",
    "    [\n",
    "        (\n",
    "            'simpleImputer_before_ord',\n",
    "            SimpleImputer(missing_values=np.nan, strategy='constant', fill_value=-999)\n",
    "        ),\n",
    "        (\n",
    "            'ord',\n",
    "            OrdinalEncoder(\n",
    "                handle_unknown='use_encoded_value', unknown_value=np.nan\n",
    "            )\n",
    "        ),\n",
    "        (\n",
    "            'simpleImputer_after_ord',\n",
    "            SimpleImputer(missing_values=np.nan, strategy='constant', fill_value=-999)\n",
    "        )\n",
    "    ]\n",
    ")\n",
    "\n",
    "# создаём общий пайплайн для подготовки данных\n",
    "data_preprocessor = ColumnTransformer(\n",
    "    [\n",
    "        ('ord', ord_pipe, ord_columns),\n",
    "        ('num', StandardScaler(), num_columns)\n",
    "    ],\n",
    "    remainder='passthrough'\n",
    ")\n",
    "\n",
    "# создаём итоговый пайплайн: подготовка данных и модель\n",
    "pipe_final = Pipeline(\n",
    "    [\n",
    "        ('preprocessor', data_preprocessor),\n",
    "        ('models', DecisionTreeClassifier(random_state=RANDOM_STATE))\n",
    "    ]\n",
    ")"
   ]
  },
  {
   "cell_type": "markdown",
   "id": "2b340822-2254-4df6-ab4d-6bbad1c78103",
   "metadata": {},
   "source": [
    "# Лучшая модель"
   ]
  },
  {
   "cell_type": "code",
   "execution_count": 91,
   "id": "72b024d9-308c-449b-a017-f0ef0cee68ed",
   "metadata": {},
   "outputs": [],
   "source": [
    "param_grid = [\n",
    "    {\n",
    "        'models': [DecisionTreeClassifier(random_state=RANDOM_STATE)],\n",
    "        'models__max_depth': range(2, 31),\n",
    "        'models__max_features': range(2, 31),\n",
    "        'models__min_samples_split': range(1, 15),\n",
    "        'models__min_samples_leaf': range(1, 15),\n",
    "        'preprocessor__num': [StandardScaler()]\n",
    "    },\n",
    "\n",
    "    {\n",
    "        'models': [KNeighborsClassifier()],\n",
    "        'models__n_neighbors': range(2, 50),\n",
    "        'preprocessor__num': [StandardScaler()]\n",
    "    },\n",
    "\n",
    "    {\n",
    "        'models': [LogisticRegression(\n",
    "            random_state=RANDOM_STATE,\n",
    "            solver='saga',\n",
    "            penalty='l1'\n",
    "        )],\n",
    "        'models__C': [0.01, 0.1, 1, 2, 3, 4, 5],\n",
    "        'preprocessor__num': [StandardScaler()]\n",
    "    },\n",
    "\n",
    "    {\n",
    "        'models': [SVC(random_state=RANDOM_STATE, probability=True)],\n",
    "        'models__kernel' : ['rbf', 'sigmoid'],\n",
    "        'models__C': [0.01, 0.1, 1, 2, 3, 4, 5, 6],\n",
    "        'models__gamma': [0.01, 0.1, 1],\n",
    "        'preprocessor__num': [StandardScaler()]\n",
    "    }\n",
    "]"
   ]
  },
  {
   "cell_type": "code",
   "execution_count": 96,
   "id": "e68138c2-616a-4068-bd07-fcd07917a07b",
   "metadata": {},
   "outputs": [
    {
     "name": "stdout",
     "output_type": "stream",
     "text": [
      "Лучшая модель и её параметры:\n",
      "\n",
      " {'preprocessor__num': StandardScaler(), 'models__min_samples_split': 3, 'models__min_samples_leaf': 1, 'models__max_features': 23, 'models__max_depth': 6, 'models': DecisionTreeClassifier(random_state=42)}\n"
     ]
    },
    {
     "name": "stderr",
     "output_type": "stream",
     "text": [
      "C:\\Users\\Public\\anac\\Lib\\site-packages\\sklearn\\model_selection\\_validation.py:547: FitFailedWarning: \n",
      "30 fits failed out of a total of 500.\n",
      "The score on these train-test partitions for these parameters will be set to nan.\n",
      "If these failures are not expected, you can try to debug them by setting error_score='raise'.\n",
      "\n",
      "Below are more details about the failures:\n",
      "--------------------------------------------------------------------------------\n",
      "30 fits failed with the following error:\n",
      "Traceback (most recent call last):\n",
      "  File \"C:\\Users\\Public\\anac\\Lib\\site-packages\\sklearn\\model_selection\\_validation.py\", line 895, in _fit_and_score\n",
      "    estimator.fit(X_train, y_train, **fit_params)\n",
      "  File \"C:\\Users\\Public\\anac\\Lib\\site-packages\\sklearn\\base.py\", line 1474, in wrapper\n",
      "    return fit_method(estimator, *args, **kwargs)\n",
      "           ^^^^^^^^^^^^^^^^^^^^^^^^^^^^^^^^^^^^^^\n",
      "  File \"C:\\Users\\Public\\anac\\Lib\\site-packages\\sklearn\\pipeline.py\", line 475, in fit\n",
      "    self._final_estimator.fit(Xt, y, **last_step_params[\"fit\"])\n",
      "  File \"C:\\Users\\Public\\anac\\Lib\\site-packages\\sklearn\\base.py\", line 1467, in wrapper\n",
      "    estimator._validate_params()\n",
      "  File \"C:\\Users\\Public\\anac\\Lib\\site-packages\\sklearn\\base.py\", line 666, in _validate_params\n",
      "    validate_parameter_constraints(\n",
      "  File \"C:\\Users\\Public\\anac\\Lib\\site-packages\\sklearn\\utils\\_param_validation.py\", line 95, in validate_parameter_constraints\n",
      "    raise InvalidParameterError(\n",
      "sklearn.utils._param_validation.InvalidParameterError: The 'min_samples_split' parameter of DecisionTreeClassifier must be an int in the range [2, inf) or a float in the range (0.0, 1.0]. Got 1 instead.\n",
      "\n",
      "  warnings.warn(some_fits_failed_message, FitFailedWarning)\n",
      "C:\\Users\\Public\\anac\\Lib\\site-packages\\sklearn\\model_selection\\_search.py:1051: UserWarning: One or more of the test scores are non-finite: [0.53162467 0.53531206 0.54387229 0.54641946 0.55389815 0.55678436\n",
      " 0.61199087 0.56268776 0.54465794 0.5501515  0.55540978 0.69098262\n",
      "        nan 0.58811098        nan 0.66684614 0.57509106 0.53841043\n",
      " 0.66684614 0.52656104 0.52065586 0.53620611 0.54474286        nan\n",
      " 0.53752519 0.53486514 0.56668957 0.57783782 0.66684614 0.57163425\n",
      " 0.5418617  0.53000447 0.57077569 0.56908839 0.59468115 0.57748964\n",
      " 0.57120816 0.67084066 0.57699716 0.68107995 0.55267696 0.66684614\n",
      " 0.63006722 0.54766014 0.57839229        nan 0.56128022 0.5667033\n",
      " 0.57163425 0.55067343 0.55544691 0.543846   0.59395755 0.68893591\n",
      " 0.55716471 0.55123943 0.54817993 0.65145274 0.69693889 0.56336083\n",
      " 0.57150897 0.69328914 0.67019753 0.55509507 0.53462975 0.68183655\n",
      " 0.63197797 0.52683412 0.66684614 0.57287653 0.68659545 0.68625563\n",
      " 0.54893549        nan 0.56959913 0.69318474 0.54848456 0.67181241\n",
      " 0.58610577 0.54445481 0.59020791 0.65799506 0.66684614 0.52918616\n",
      " 0.54600244 0.55241334 0.55500143 0.64637115 0.57384514        nan\n",
      " 0.56490098 0.56648425 0.69120024 0.6522696  0.57380802 0.69802659\n",
      " 0.56772614 0.53697831 0.69485287 0.69346177]\n",
      "  warnings.warn(\n"
     ]
    }
   ],
   "source": [
    "rand_search = RandomizedSearchCV(\n",
    "    pipe_final,\n",
    "    param_grid,\n",
    "    cv=5,\n",
    "    scoring='roc_auc',\n",
    "    n_jobs=-1,\n",
    "    random_state=RANDOM_STATE,\n",
    "    n_iter=100\n",
    ")\n",
    "rand_search.fit(X_train, y_train);\n",
    "print('Лучшая модель и её параметры:\\n\\n', rand_search.best_params_)"
   ]
  },
  {
   "cell_type": "code",
   "execution_count": 117,
   "id": "5929cff9-8330-42f4-9453-37bfcc70894d",
   "metadata": {},
   "outputs": [
    {
     "name": "stdout",
     "output_type": "stream",
     "text": [
      "Метрика ROC-AUC на кросс-валидации: 0.6980265906809766\n",
      "Метрика ROC-AUC на тестовой выборке: 0.6873996086612671\n"
     ]
    }
   ],
   "source": [
    "y_pred = rand_search.predict_proba(X_test)[:,1]\n",
    "print('Метрика ROC-AUC на кросс-валидации:', rand_search.best_score_)\n",
    "print('Метрика ROC-AUC на тестовой выборке:', roc_auc_score(y_test, y_pred))"
   ]
  },
  {
   "cell_type": "code",
   "execution_count": 111,
   "id": "7aa8ae20-4af7-4596-a6d4-31e15b455164",
   "metadata": {},
   "outputs": [
    {
     "name": "stderr",
     "output_type": "stream",
     "text": [
      "C:\\Users\\Ангелина\\AppData\\Local\\Temp\\ipykernel_14152\\2382191764.py:13: ExperimentalWarning: OptunaSearchCV is experimental (supported from v0.17.0). The interface can change in the future.\n",
      "  oscv_forest = OptunaSearchCV(\n",
      "[I 2024-10-02 19:44:58,807] A new study created in memory with name: no-name-648cc264-6363-412b-9b4c-c86c921ba8b7\n",
      "[I 2024-10-02 19:45:17,165] Trial 0 finished with value: 0.6985438078951342 and parameters: {'models__max_depth': 17, 'models__min_samples_split': 26, 'models__max_features': 2, 'models__min_samples_leaf': 7}. Best is trial 0 with value: 0.6985438078951342.\n",
      "[I 2024-10-02 19:45:59,840] Trial 1 finished with value: 0.6762037864312536 and parameters: {'models__max_depth': 18, 'models__min_samples_split': 10, 'models__max_features': 5, 'models__min_samples_leaf': 4}. Best is trial 0 with value: 0.6985438078951342.\n",
      "[I 2024-10-02 19:46:27,317] Trial 2 finished with value: 0.7137225568769322 and parameters: {'models__max_depth': 7, 'models__min_samples_split': 11, 'models__max_features': 7, 'models__min_samples_leaf': 20}. Best is trial 2 with value: 0.7137225568769322.\n",
      "[I 2024-10-02 19:47:16,555] Trial 3 finished with value: 0.679771965862607 and parameters: {'models__max_depth': 19, 'models__min_samples_split': 8, 'models__max_features': 8, 'models__min_samples_leaf': 10}. Best is trial 2 with value: 0.7137225568769322.\n",
      "[I 2024-10-02 19:48:04,411] Trial 4 finished with value: 0.689304960570308 and parameters: {'models__max_depth': 31, 'models__min_samples_split': 30, 'models__max_features': 10, 'models__min_samples_leaf': 20}. Best is trial 2 with value: 0.7137225568769322.\n"
     ]
    }
   ],
   "source": [
    "pipe_final_forest = Pipeline([\n",
    "    ('preprocessor', data_preprocessor),\n",
    "    ('models', RandomForestClassifier(random_state=RANDOM_STATE))\n",
    "])\n",
    "\n",
    "parameters_forest = {\n",
    "    'models__max_depth': distributions.IntDistribution(2, 35),\n",
    "    'models__min_samples_split': distributions.IntDistribution(2, 30),\n",
    "    'models__max_features': distributions.IntDistribution(1, 20),\n",
    "    'models__min_samples_leaf': distributions.IntDistribution(1, 20),\n",
    "}\n",
    "\n",
    "oscv_forest = OptunaSearchCV(\n",
    "    pipe_final_forest,\n",
    "    parameters_forest,\n",
    "    scoring='roc_auc',\n",
    "    cv=5,\n",
    "    n_trials=5,\n",
    "    random_state=RANDOM_STATE\n",
    ")\n",
    "oscv_forest.fit(X_train, y_train);"
   ]
  },
  {
   "cell_type": "code",
   "execution_count": 112,
   "id": "36c8d486-556f-4d0e-9043-49a55066998a",
   "metadata": {},
   "outputs": [
    {
     "data": {
      "text/plain": [
       "{'models__max_depth': 7,\n",
       " 'models__min_samples_split': 11,\n",
       " 'models__max_features': 7,\n",
       " 'models__min_samples_leaf': 20}"
      ]
     },
     "execution_count": 112,
     "metadata": {},
     "output_type": "execute_result"
    }
   ],
   "source": [
    "oscv_forest.best_params_"
   ]
  },
  {
   "cell_type": "code",
   "execution_count": 113,
   "id": "d93590a5-8f00-4f0e-b2c8-1f1632d55125",
   "metadata": {},
   "outputs": [
    {
     "name": "stdout",
     "output_type": "stream",
     "text": [
      "Метрика ROC-AUC модели на кросс-валидации: 0.7137225568769322\n",
      "Метрика ROC-AUC модели на тестовой выборке: 0.7140251302189861\n"
     ]
    }
   ],
   "source": [
    "y_pred_forest = oscv_forest.predict_proba(X_test)[:,1]\n",
    "print('Метрика ROC-AUC модели на кросс-валидации:', oscv_forest.best_score_)\n",
    "print('Метрика ROC-AUC модели на тестовой выборке:', roc_auc_score(y_test, y_pred_forest))   "
   ]
  },
  {
   "cell_type": "code",
   "execution_count": 120,
   "id": "9cfc1d77-df6a-4e12-88d3-7572d80ac24e",
   "metadata": {},
   "outputs": [
    {
     "name": "stdout",
     "output_type": "stream",
     "text": [
      "Модель DecisionTreeClassifier:\n",
      "кросс-валидация: 0.6980265906809766\n",
      "тестовая выборка: 0.6873996086612671\n",
      "\n",
      "Модель RandomForestClassifier:\n",
      "кросс-валидация: 0.7137225568769322\n",
      "тестовая выборка: 0.7140251302189861\n"
     ]
    }
   ],
   "source": [
    "print('Модель DecisionTreeClassifier:')\n",
    "print('кросс-валидация:', rand_search.best_score_)\n",
    "print('тестовая выборка:', roc_auc_score(y_test, y_pred))\n",
    "\n",
    "print('\\nМодель RandomForestClassifier:')\n",
    "print('кросс-валидация:', oscv_forest.best_score_)\n",
    "print('тестовая выборка:', roc_auc_score(y_test, y_pred_forest))"
   ]
  },
  {
   "cell_type": "markdown",
   "id": "0757e652-8e46-4f30-aa36-59d1dd3259c2",
   "metadata": {},
   "source": [
    "# Итоги"
   ]
  },
  {
   "cell_type": "markdown",
   "id": "f75b7199-17be-487c-bde5-29cfcd3d8411",
   "metadata": {},
   "source": [
    "Датасеты были предобработаны. Было большое кол-во дубликатов, которые я удалила. Выбросы были удалены. Были созданы следующие признаки: общее кол-во сообщений, число покупок, сумма потраченных средств, средний период покупок, дни с последней покупки. В новый признак вошли значения: good, neutral, bad. Для поиска лучшей модели ииспользовала RandomizedSearchCV, в которой лучшей моделью стала DecisionTreeClassifier (ROC-AUC на кросс-валидации составил 0.69, а на тестовой выборке 0.68. Для поиска лучший параметров модели RandomForestClassifier использовала OptunaSearchCV (ROC-AUC на кросс-валидации составил 0.713, на тестовой выборке 0.714)."
   ]
  },
  {
   "cell_type": "markdown",
   "id": "6f7bab80-7343-42d6-bf2b-aa1925597935",
   "metadata": {},
   "source": [
    "# Рекомендации"
   ]
  },
  {
   "cell_type": "markdown",
   "id": "62d7bc43-cd78-48f3-825b-fa6a3ab62484",
   "metadata": {},
   "source": [
    "Стоит обратить внимание, что временной признак является одним из самых важных. Если создать новые временные признаки, качество предсказания может улучшиться."
   ]
  },
  {
   "cell_type": "code",
   "execution_count": null,
   "id": "35d2bfdb-d298-4464-b326-57ba43f25096",
   "metadata": {},
   "outputs": [],
   "source": []
  },
  {
   "cell_type": "code",
   "execution_count": null,
   "id": "2621f74d-bedc-4190-8725-2b2466abbe06",
   "metadata": {},
   "outputs": [],
   "source": []
  }
 ],
 "metadata": {
  "kernelspec": {
   "display_name": "Python 3 (ipykernel)",
   "language": "python",
   "name": "python3"
  },
  "language_info": {
   "codemirror_mode": {
    "name": "ipython",
    "version": 3
   },
   "file_extension": ".py",
   "mimetype": "text/x-python",
   "name": "python",
   "nbconvert_exporter": "python",
   "pygments_lexer": "ipython3",
   "version": "3.12.4"
  }
 },
 "nbformat": 4,
 "nbformat_minor": 5
}
